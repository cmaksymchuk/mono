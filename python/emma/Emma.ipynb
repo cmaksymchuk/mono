{
 "cells": [
  {
   "cell_type": "markdown",
   "id": "16362f19",
   "metadata": {},
   "source": [
    "# This is a heading"
   ]
  },
  {
   "cell_type": "code",
   "execution_count": 7,
   "id": "39dc6620",
   "metadata": {},
   "outputs": [
    {
     "name": "stdout",
     "output_type": "stream",
     "text": [
      "105\n",
      "1.0\n",
      "cory 20/10\n",
      "32\n"
     ]
    }
   ],
   "source": [
    "print(75+30)\n",
    "print(4.5 - 3.5)\n",
    "print(\"cory 20/10\")\n",
    "print(2**5)\n"
   ]
  },
  {
   "cell_type": "code",
   "execution_count": 11,
   "id": "646ce513",
   "metadata": {},
   "outputs": [
    {
     "name": "stdout",
     "output_type": "stream",
     "text": [
      "2.5\n"
     ]
    }
   ],
   "source": [
    "# These are variables\n",
    "# Integers (they don't have a decimal - whole number)\n",
    "a = 5\n",
    "b = 10\n",
    "# double or float, has a decimal\n",
    "c = 5.5\n",
    "d = 2.2\n",
    "# string (words or sentences have '' or \"\" surrounding them)\n",
    "\n",
    "print(a/2)"
   ]
  },
  {
   "cell_type": "code",
   "execution_count": 14,
   "id": "2293fb92",
   "metadata": {},
   "outputs": [
    {
     "name": "stdout",
     "output_type": "stream",
     "text": [
      "100\n",
      "100\n",
      "13\n",
      "14\n"
     ]
    }
   ],
   "source": [
    "a = 10\n",
    "a = a * 10\n",
    "print(a)\n",
    "\n",
    "a = 10\n",
    "a *= 10 # when I write a *= 10, it is exactly like saying a = a * 10\n",
    "print(a)\n",
    "\n",
    "\n",
    "b = 3\n",
    "b = b + 10\n",
    "print (b)\n",
    "b += 1\n",
    "print(b)"
   ]
  },
  {
   "cell_type": "code",
   "execution_count": 19,
   "id": "cb9fc59f",
   "metadata": {},
   "outputs": [
    {
     "name": "stdout",
     "output_type": "stream",
     "text": [
      "adding number 2. The sum is now 2\n",
      "adding number 4. The sum is now 6\n",
      "adding number 6. The sum is now 12\n",
      "adding number 8. The sum is now 20\n",
      "adding number 3. The sum is now 23\n",
      "adding number 5. The sum is now 28\n",
      "adding number 6. The sum is now 34\n",
      "adding number 8. The sum is now 42\n",
      "adding number 2. The sum is now 44\n",
      "adding number 4. The sum is now 48\n",
      "adding number 7. The sum is now 55\n",
      "adding number 8. The sum is now 63\n",
      "adding number 9. The sum is now 72\n",
      "adding number 7. The sum is now 79\n",
      "adding number 5. The sum is now 84\n",
      "adding number 3. The sum is now 87\n",
      "adding number 4. The sum is now 91\n",
      "adding number 5. The sum is now 96\n",
      "adding number 7. The sum is now 103\n",
      "adding number 3. The sum is now 106\n",
      "adding number 4. The sum is now 110\n",
      "adding number 5. The sum is now 115\n",
      "adding number 6. The sum is now 121\n",
      "adding number 7. The sum is now 128\n",
      "adding number 8. The sum is now 136\n",
      "adding number 9. The sum is now 145\n"
     ]
    }
   ],
   "source": [
    "thelist = [2,4,6,8,3,5,6,8,2,4,7,8,9,7,5,3,4,5,7,3,4,5,6,7,8,9]\n",
    "sum_of_all_of_the_numbers = 0\n",
    "\n",
    "for somenumber in thelist:\n",
    "    sum_of_all_of_the_numbers = sum_of_all_of_the_numbers + somenumber\n",
    "    print(\"adding number \" + str(somenumber) + \". The sum is now \" + str(sum_of_all_of_the_numbers))\n",
    "    \n"
   ]
  },
  {
   "cell_type": "code",
   "execution_count": 21,
   "id": "30e74b66",
   "metadata": {},
   "outputs": [
    {
     "name": "stdout",
     "output_type": "stream",
     "text": [
      "Emma\n",
      "And\n",
      "Cory\n"
     ]
    }
   ],
   "source": [
    "# Emma's first programming challenge\n",
    "\n",
    "somelist = [\"Emma\",\"And\",\"Cory\"]\n",
    "\n",
    "# Write a program that prints: EmmaAndCory\n",
    "\n",
    "sentance = \"\"\n",
    "\n",
    "hat = \"this is a cool hat\" # here 'hat' is a variable\n",
    "\n",
    "# the \"for\" word does this\n",
    "# runs all of the indented code below it, once each time FOR every item in a list\n",
    "# looking at the for loop below there are only 2 things that are important\n",
    "# 1) The variable name of the list we are going to loop through\n",
    "# 2) Any variable name you want.  In this case we called our variable 'name', but you \n",
    "for name in somelist:\n",
    "    print (name)\n",
    "    \n",
    "# We want the computer program to print EmmaAndCory\n",
    "\n",
    "\n",
    "\n"
   ]
  },
  {
   "cell_type": "code",
   "execution_count": 25,
   "id": "ecd4719c",
   "metadata": {},
   "outputs": [
    {
     "name": "stdout",
     "output_type": "stream",
     "text": [
      "Emma And Cory Are Awesome\n"
     ]
    }
   ],
   "source": [
    "# Emma's first programming challenge\n",
    "\n",
    "somelist = [\"Emma \",\"And \",\"Cory \",\"Are \",\"Awesome\"]\n",
    "\n",
    "# Write a program that prints: EmmaAndCory\n",
    "\n",
    "sentance = \"\"\n",
    "\n",
    "# \"\" + \"Emma\" = \"Emma\"\n",
    "# \"Emma\" + \"And\" = \"EmmaAnd\"\n",
    "# \"EmmaAnd\" + \"Cory\" = \"EmmaAndCory\"\n",
    "\n",
    "\n",
    "# the \"for\" word does this\n",
    "# runs all of the indented code below it, once each time FOR every item in a list\n",
    "# looking at the for loop below there are only 2 things that are important\n",
    "# 1) The variable name of the list we are going to loop through\n",
    "# 2) Any variable name you want.  In this case we called our variable 'name', but you \n",
    "for name in somelist:\n",
    "    sentance = sentance + name\n",
    "# We want the computer program to print EmmaAndCory\n",
    "print(sentance)\n",
    "\n",
    "\n"
   ]
  },
  {
   "cell_type": "code",
   "execution_count": 31,
   "id": "85b945b4",
   "metadata": {},
   "outputs": [
    {
     "name": "stdout",
     "output_type": "stream",
     "text": [
      "1\n",
      "2\n",
      "3\n"
     ]
    }
   ],
   "source": [
    "number_list = [1,2,3]\n",
    "for name in number_list:\n",
    "    print (name)\n"
   ]
  },
  {
   "cell_type": "code",
   "execution_count": 36,
   "id": "922221de",
   "metadata": {},
   "outputs": [
    {
     "name": "stdout",
     "output_type": "stream",
     "text": [
      "1\n",
      "cory\n",
      "emma\n",
      "2\n",
      "cory\n",
      "emma\n",
      "3\n",
      "cory\n",
      "emma\n",
      "============== done\n"
     ]
    }
   ],
   "source": [
    "#The spaces are important\n",
    "number_list = [1,2,3]\n",
    "for anumber in number_list:\n",
    " print (anumber)\n",
    " print (\"cory\")\n",
    " print (\"emma\")\n",
    "print (\"============== done\")"
   ]
  }
 ],
 "metadata": {
  "kernelspec": {
   "display_name": "Python 3 (ipykernel)",
   "language": "python",
   "name": "python3"
  },
  "language_info": {
   "codemirror_mode": {
    "name": "ipython",
    "version": 3
   },
   "file_extension": ".py",
   "mimetype": "text/x-python",
   "name": "python",
   "nbconvert_exporter": "python",
   "pygments_lexer": "ipython3",
   "version": "3.10.2"
  }
 },
 "nbformat": 4,
 "nbformat_minor": 5
}
