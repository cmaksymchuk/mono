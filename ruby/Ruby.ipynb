{
 "cells": [
  {
   "cell_type": "markdown",
   "id": "888df4fc",
   "metadata": {},
   "source": [
    "Ruby Version\n",
    "ruby -v\n",
    "\n",
    "List Gems\n",
    "gem list\n",
    "\n",
    "Interactive Ruby Shell\n",
    "irb "
   ]
  }
 ],
 "metadata": {
  "kernelspec": {
   "display_name": "Python 3 (ipykernel)",
   "language": "python",
   "name": "python3"
  },
  "language_info": {
   "codemirror_mode": {
    "name": "ipython",
    "version": 3
   },
   "file_extension": ".py",
   "mimetype": "text/x-python",
   "name": "python",
   "nbconvert_exporter": "python",
   "pygments_lexer": "ipython3",
   "version": "3.10.2"
  }
 },
 "nbformat": 4,
 "nbformat_minor": 5
}
