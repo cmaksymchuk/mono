{
 "cells": [
  {
   "cell_type": "code",
   "execution_count": 6,
   "id": "abd4c2b9",
   "metadata": {},
   "outputs": [
    {
     "name": "stdout",
     "output_type": "stream",
     "text": [
      "Hello World\n"
     ]
    },
    {
     "data": {
      "text/plain": [
       "3.0"
      ]
     },
     "execution_count": 6,
     "metadata": {},
     "output_type": "execute_result"
    }
   ],
   "source": [
    "\"Hello World\"\n",
    "puts \"Hello World\"\n",
    "3+2\n",
    "3**2\n",
    "Math.sqrt(9)"
   ]
  },
  {
   "cell_type": "code",
   "execution_count": 7,
   "id": "936ccc96",
   "metadata": {},
   "outputs": [
    {
     "data": {
      "text/plain": [
       ":hi"
      ]
     },
     "execution_count": 7,
     "metadata": {},
     "output_type": "execute_result"
    }
   ],
   "source": [
    "def hi\n",
    "puts \"Hello World!\"\n",
    "end\n",
    ":hi"
   ]
  },
  {
   "cell_type": "code",
   "execution_count": 8,
   "id": "96d6ff40",
   "metadata": {},
   "outputs": [
    {
     "name": "stdout",
     "output_type": "stream",
     "text": [
      "Hello cory!\n"
     ]
    }
   ],
   "source": [
    "def hi(name)\n",
    "puts \"Hello #{name}!\"\n",
    "end\n",
    "hi(\"cory\")"
   ]
  }
 ],
 "metadata": {
  "kernelspec": {
   "display_name": "Ruby 3.1.2",
   "language": "ruby",
   "name": "ruby"
  },
  "language_info": {
   "file_extension": ".rb",
   "mimetype": "application/x-ruby",
   "name": "ruby",
   "version": "3.1.2"
  }
 },
 "nbformat": 4,
 "nbformat_minor": 5
}
