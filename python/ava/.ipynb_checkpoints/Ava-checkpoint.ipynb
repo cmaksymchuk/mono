{
 "cells": [
  {
   "cell_type": "code",
   "execution_count": 3,
   "id": "d79d188f",
   "metadata": {},
   "outputs": [
    {
     "name": "stdout",
     "output_type": "stream",
     "text": [
      "ava is the coolest\n"
     ]
    }
   ],
   "source": [
    "print('ava is the coolest')"
   ]
  },
  {
   "cell_type": "code",
   "execution_count": 9,
   "id": "367461a0",
   "metadata": {},
   "outputs": [
    {
     "name": "stdout",
     "output_type": "stream",
     "text": [
      " ava is so exra cool that she knows how to computer program now.\n",
      " ava is so exra cool that she knows how to computer program now.\n",
      " ava is so exra cool that she knows how to computer program now.\n",
      " ava is so exra cool that she knows how to computer program now.\n",
      " ava is so exra cool that she knows how to computer program now.\n",
      " ava is so exra cool that she knows how to computer program now.\n",
      " ava is so exra cool that she knows how to computer program now.\n",
      " ava is so exra cool that she knows how to computer program now.\n",
      " ava is so exra cool that she knows how to computer program now.\n",
      " ava is so exra cool that she knows how to computer program now.\n"
     ]
    }
   ],
   "source": [
    "\n",
    "for x in range(10):\n",
    "  print(\" ava is so exra cool that she knows how to computer program now.\")"
   ]
  },
  {
   "cell_type": "code",
   "execution_count": 23,
   "id": "fab97702",
   "metadata": {},
   "outputs": [
    {
     "name": "stdout",
     "output_type": "stream",
     "text": [
      "ava\n",
      "ava\n",
      "ava\n",
      "ava\n",
      "emma\n",
      "emma\n",
      "emma\n"
     ]
    }
   ],
   "source": [
    "for x in range(4):\n",
    "  print('ava')\n",
    "for x in range(3):\n",
    "  print('emma')"
   ]
  },
  {
   "cell_type": "code",
   "execution_count": 28,
   "id": "ad22254e",
   "metadata": {},
   "outputs": [
    {
     "name": "stdout",
     "output_type": "stream",
     "text": [
      "emma\n",
      "emma\n",
      "emma\n",
      "dad\n",
      "2\n"
     ]
    }
   ],
   "source": [
    "for x in range(3):\n",
    "  print('emma')\n",
    "print('dad')\n",
    "print(x)"
   ]
  },
  {
   "cell_type": "code",
   "execution_count": null,
   "id": "4a77119b",
   "metadata": {},
   "outputs": [],
   "source": []
  },
  {
   "cell_type": "code",
   "execution_count": 29,
   "id": "2dae4954",
   "metadata": {},
   "outputs": [
    {
     "name": "stdout",
     "output_type": "stream",
     "text": [
      "emma\n",
      "ava\n",
      "emma\n",
      "ava\n",
      "emma\n",
      "ava\n"
     ]
    }
   ],
   "source": [
    "for x in range(3):\n",
    "  print('emma')\n",
    "  print('ava')\n"
   ]
  },
  {
   "cell_type": "markdown",
   "id": "5e2f1a49",
   "metadata": {},
   "source": [
    "# Learning If Statements"
   ]
  },
  {
   "cell_type": "code",
   "execution_count": 9,
   "id": "950e9f72",
   "metadata": {},
   "outputs": [
    {
     "name": "stdout",
     "output_type": "stream",
     "text": [
      "ava\n"
     ]
    }
   ],
   "source": [
    "x = 6\n",
    "y = 'Dad'\n",
    "\n",
    "\n",
    "if x == 5:\n",
    "    print('x is equal to 5')\n",
    "    y = 'Mom'\n",
    "    y = 'ava'\n",
    "\n",
    "    \n",
    "    \n",
    "    \n",
    "print(y)\n",
    "    \n",
    "\n",
    "\n",
    "    \n"
   ]
  },
  {
   "cell_type": "code",
   "execution_count": null,
   "id": "a06dcc07",
   "metadata": {},
   "outputs": [],
   "source": []
  }
 ],
 "metadata": {
  "kernelspec": {
   "display_name": "Python 3 (ipykernel)",
   "language": "python",
   "name": "python3"
  },
  "language_info": {
   "codemirror_mode": {
    "name": "ipython",
    "version": 3
   },
   "file_extension": ".py",
   "mimetype": "text/x-python",
   "name": "python",
   "nbconvert_exporter": "python",
   "pygments_lexer": "ipython3",
   "version": "3.10.2"
  }
 },
 "nbformat": 4,
 "nbformat_minor": 5
}
