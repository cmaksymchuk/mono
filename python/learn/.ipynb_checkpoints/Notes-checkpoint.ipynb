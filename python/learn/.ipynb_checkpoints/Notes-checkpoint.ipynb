{
 "cells": [
  {
   "cell_type": "markdown",
   "id": "86fbb97e",
   "metadata": {},
   "source": [
    "# Python Cheet Sheet\n",
    "(https://www.pythoncheatsheet.org/)[https://www.pythoncheatsheet.org/]"
   ]
  },
  {
   "cell_type": "markdown",
   "id": "95a21299",
   "metadata": {},
   "source": [
    "## Lists and Slicing"
   ]
  },
  {
   "cell_type": "code",
   "execution_count": 9,
   "id": "54047e17",
   "metadata": {},
   "outputs": [
    {
     "name": "stdout",
     "output_type": "stream",
     "text": [
      "lst=[0, 1, 2, 3, 4, 5, 6, 7, 8, 9]\n",
      "lst[0:]=[0, 1, 2, 3, 4, 5, 6, 7, 8, 9]\n",
      "lst[1:]=[1, 2, 3, 4, 5, 6, 7, 8, 9]\n",
      "lst[-1]=9\n",
      "lst[:2]=[0, 1]\n",
      "lst[:-3]=7\n",
      "lst[:-1]=[0, 1, 2, 3, 4, 5, 6, 7, 8]\n",
      "lst[0:-1]=[0, 1, 2, 3, 4, 5, 6, 7, 8]\n",
      "lst[-3:-1]=[7, 8]\n",
      "spam=['cat', 'bat', 'rat', 'elephant', 'dog']\n",
      "spam2=['cat', 'bat', 'rat', 'elephant']\n",
      "[1, 2, 3, 'A', 'B', 'C']\n",
      "['X', 'Y', 'Z']\n",
      "[1, 2, 3, 'A', 'B', 'C']\n",
      "Index 0 in supplies is: pens\n",
      "Index 1 in supplies is: staplers\n",
      "Index 2 in supplies is: flame-throwers\n",
      "Index 3 in supplies is: binders\n",
      "Pete is 6 years old\n",
      "John is 23 years old\n",
      "Elizabeth is 44 years old\n"
     ]
    }
   ],
   "source": [
    "lst = [i for i in range(0,9+1)]\n",
    "print('%s%s' % ('lst=' , lst))\n",
    "print('%s%s' % ('lst[0:]=' , lst[0:]))\n",
    "print('%s%s' % ('lst[1:]=' , lst[1:]))\n",
    "print('%s%s' % ('lst[-1]=' , lst[-1]))\n",
    "print('%s%s' % ('lst[:2]=' , lst[:2]))\n",
    "print('%s%s' % ('lst[:-3]=' , lst[-3]))\n",
    "print('%s%s' % ('lst[:-1]=' , lst[:-1]))\n",
    "print('%s%s' % ('lst[0:-1]=' , lst[0:-1]))\n",
    "print('%s%s' % ('lst[-3:-1]=' , lst[-3:-1]))\n",
    "\n",
    "# copy a list using slicing with no indexes\n",
    "spam = ['cat', 'bat', 'rat', 'elephant']\n",
    "spam2 = spam[:]\n",
    "spam.append('dog')\n",
    "print('spam=' + str(spam))\n",
    "print('spam2=' + str(spam2))\n",
    "\n",
    "# List concat and replication\n",
    "print([1, 2, 3] + ['A', 'B', 'C'])\n",
    "print(['X', 'Y', 'Z'])\n",
    "\n",
    "spam = [1, 2, 3]\n",
    "spam = spam + ['A', 'B', 'C']\n",
    "print(spam)\n",
    "\n",
    "# Removing Values from Lists with del Statements\n",
    "spam = ['cat', 'bat', 'rat', 'elephant']\n",
    "del spam[2]\n",
    "spam\n",
    "\n",
    "# Using for Loops with Lists\n",
    "supplies = ['pens', 'staplers', 'flame-throwers', 'binders']\n",
    "for i, supply in enumerate(supplies):\n",
    "    print('Index {} in supplies is: {}'.format(str(i), supply))\n",
    "    \n",
    "# Looping Through Multiple Lists with zip()\n",
    "name = ['Pete', 'John', 'Elizabeth']\n",
    "age = [6, 23, 44]\n",
    "for n, a in zip(name, age):\n",
    "    print('{} is {} years old'.format(n, a))\n",
    "    \n",
    "# The in and not in Operators\n",
    "'howdy' in ['hello', 'hi', 'howdy', 'heyas'] # returns true"
   ]
  },
  {
   "cell_type": "markdown",
   "id": "f0f2ed33",
   "metadata": {},
   "source": [
    "# Multiple Assignment Trick"
   ]
  },
  {
   "cell_type": "code",
   "execution_count": 11,
   "id": "c02af746",
   "metadata": {},
   "outputs": [
    {
     "name": "stdout",
     "output_type": "stream",
     "text": [
      "fat orange loud\n",
      "Bob\n"
     ]
    }
   ],
   "source": [
    "cat = ['fat', 'orange', 'loud']\n",
    "\n",
    "size, color, disposition = cat\n",
    "print(size, color, disposition)\n",
    "\n",
    "# Very Cool, swapping variables\n",
    "a, b = 'Alice', 'Bob'\n",
    "a, b = b, a\n",
    "print(a) # 'Bob'"
   ]
  },
  {
   "cell_type": "markdown",
   "id": "b9f7b7de",
   "metadata": {},
   "source": [
    "# List Append, Insert, Remove, Sort"
   ]
  },
  {
   "cell_type": "code",
   "execution_count": 12,
   "id": "eeb4eef7",
   "metadata": {},
   "outputs": [
    {
     "data": {
      "text/plain": [
       "['ants', 'badgers', 'cats', 'dogs', 'elephants']"
      ]
     },
     "execution_count": 12,
     "metadata": {},
     "output_type": "execute_result"
    }
   ],
   "source": [
    "# append \n",
    "spam = ['cat', 'dog', 'bat']\n",
    "spam.append('moose')\n",
    "spam\n",
    "\n",
    "# insert():\n",
    "spam = ['cat', 'dog', 'bat']\n",
    "spam.insert(1, 'chicken')\n",
    "spam\n",
    "\n",
    "# Removing Values from Lists with remove()\n",
    "spam = ['cat', 'bat', 'rat', 'elephant']\n",
    "spam.remove('bat') #['cat', 'rat', 'elephant']\n",
    "# If the value appears multiple times in the list, only the first instance of the value will be removed.\n",
    "\n",
    "# Sorting the Values in a List with the sort() Method\n",
    "spam = [2, 5, 3.14, 1, -7]\n",
    "spam.sort()\n",
    "spam # [-7, 1, 2, 3.14, 5]\n",
    "\n",
    "spam = ['ants', 'cats', 'dogs', 'badgers', 'elephants']\n",
    "spam.sort()\n",
    "spam # ['ants', 'badgers', 'cats', 'dogs', 'elephants']\n",
    "\n",
    "# You can also pass True for the reverse keyword argument to have sort() sort the values in reverse order:\n",
    "spam.sort(reverse=True)\n",
    "spam # ['elephants', 'dogs', 'cats', 'badgers', 'ants']\n",
    "\n",
    "# If you need to sort the values in regular alphabetical order, pass str. lower for the key keyword argument in the sort() method call:\n",
    "spam = ['a', 'z', 'A', 'Z']\n",
    "spam.sort(key=str.lower)\n",
    "spam # ['a', 'A', 'z', 'Z']\n",
    "\n",
    "#You can use the built-in function sorted to return a new list:\n",
    "spam = ['ants', 'cats', 'dogs', 'badgers', 'elephants']\n",
    "sorted(spam) # ['ants', 'badgers', 'cats', 'dogs', 'elephants']"
   ]
  },
  {
   "cell_type": "markdown",
   "id": "8a3e8841",
   "metadata": {},
   "source": [
    "# Tuple Data Type"
   ]
  },
  {
   "cell_type": "code",
   "execution_count": 17,
   "id": "60d79692",
   "metadata": {},
   "outputs": [
    {
     "data": {
      "text/plain": [
       "['h', 'e', 'l', 'l', 'o']"
      ]
     },
     "execution_count": 17,
     "metadata": {},
     "output_type": "execute_result"
    }
   ],
   "source": [
    "eggs = ('hello', 42, 0.5)\n",
    "eggs[0] # 'hello'\n",
    "eggs[1:3] # (42, 0.5)\n",
    "len(eggs) # 3\n",
    "# The main way that tuples are different from lists is that tuples, like strings, are immutable.\n",
    "\n",
    "# Converting Types with the list() and tuple() Functions\n",
    "tuple(['cat', 'dog', 5]) #('cat', 'dog', 5)\n",
    "list(('cat', 'dog', 5)) #['cat', 'dog', 5]\n",
    "list('hello') #['h', 'e', 'l', 'l', 'o']"
   ]
  },
  {
   "cell_type": "markdown",
   "id": "a2c932f1",
   "metadata": {},
   "source": [
    "# Dictionaries and Structuring Data"
   ]
  },
  {
   "cell_type": "code",
   "execution_count": null,
   "id": "dbc3e0f0",
   "metadata": {},
   "outputs": [],
   "source": [
    "# Example Dictionary:\n",
    "myCat = {'size': 'fat', 'color': 'gray', 'disposition': 'loud'}\n",
    "The keys(), values(), and items() Methods\n",
    "\n",
    "# values():\n",
    "spam = {'color': 'red', 'age': 42}\n",
    "for v in spam.values():\n",
    "    print(v)\n",
    "#red\n",
    "#42\n",
    "#keys():\n",
    "\n",
    "for k in spam.keys():\n",
    "    print(k)\n",
    "#color\n",
    "#age\n",
    "\n",
    "#items():\n",
    "for i in spam.items():\n",
    "    print(i)\n",
    "#('color', 'red')\n",
    "#('age', 42)\n",
    "\n",
    "# Using the keys(), values(), and items() methods, \n",
    "# a for loop can iterate over the keys, values, \n",
    "# or key-value pairs in a dictionary, respectively.\n",
    "spam = {'color': 'red', 'age': 42}\n",
    "for k, v in spam.items():\n",
    "    print('Key: {} Value: {}'.format(k, str(v)))\n",
    "#Key: age Value: 42\n",
    "#Key: color Value: red\n",
    "\n",
    "\n",
    "#Checking Whether a Key or Value Exists in a Dictionary\n",
    "spam = {'name': 'Zophie', 'age': 7}\n",
    "'name' in spam.keys()\n",
    "#True\n",
    "'Zophie' in spam.values()\n",
    "#True\n",
    "\n",
    "# You can omit the call to keys() when checking for a key\n",
    "'color' in spam\n",
    "#False\n",
    "'color' not in spam\n",
    "#True\n",
    "\n",
    "#The get() Method\n",
    "#Get has two parameters: key and default value if the key did not exist\n",
    "\n",
    "picnic_items = {'apples': 5, 'cups': 2}\n",
    "\n",
    "'I am bringing {} cups.'.format(str(picnic_items.get('cups', 0)))\n",
    "#'I am bringing 2 cups.'\n",
    "'I am bringing {} eggs.'.format(str(picnic_items.get('eggs', 0)))\n",
    "#'I am bringing 0 eggs.'\n",
    "\n",
    "#The setdefault() Method\n",
    "#Let's consider this code:\n",
    "spam = {'name': 'Pooka', 'age': 5}\n",
    "if 'color' not in spam:\n",
    "    spam['color'] = 'black'\n",
    "\n",
    "#Using setdefault we could write the same code more succinctly:\n",
    "spam = {'name': 'Pooka', 'age': 5}\n",
    "spam.setdefault('color', 'black')\n",
    "#'black'\n",
    "spam\n",
    "{'color': 'black', 'age': 5, 'name': 'Pooka'}\n",
    "spam.setdefault('color', 'white')\n",
    "#'black'\n",
    "spam\n",
    "#{'color': 'black', 'age': 5, 'name': 'Poboka'}"
   ]
  },
  {
   "cell_type": "markdown",
   "id": "07375ab1",
   "metadata": {},
   "source": [
    "# Pretty Printing"
   ]
  },
  {
   "cell_type": "code",
   "execution_count": 18,
   "id": "02824139",
   "metadata": {},
   "outputs": [
    {
     "name": "stdout",
     "output_type": "stream",
     "text": [
      "{' ': 13,\n",
      " ',': 1,\n",
      " '.': 1,\n",
      " 'A': 1,\n",
      " 'I': 1,\n",
      " 'a': 4,\n",
      " 'b': 1,\n",
      " 'c': 3,\n",
      " 'd': 3,\n",
      " 'e': 5,\n",
      " 'g': 2,\n",
      " 'h': 3,\n",
      " 'i': 6,\n",
      " 'k': 2,\n",
      " 'l': 3,\n",
      " 'n': 4,\n",
      " 'o': 2,\n",
      " 'p': 1,\n",
      " 'r': 5,\n",
      " 's': 3,\n",
      " 't': 6,\n",
      " 'w': 2,\n",
      " 'y': 1}\n"
     ]
    }
   ],
   "source": [
    "import pprint\n",
    "\n",
    "message = 'It was a bright cold day in April, and the clocks were striking thirteen.'\n",
    "count = {}\n",
    "\n",
    "for character in message:\n",
    "    count.setdefault(character, 0)\n",
    "    count[character] = count[character] + 1\n",
    "pprint.pprint(count)"
   ]
  },
  {
   "cell_type": "markdown",
   "id": "9adb0d2e",
   "metadata": {},
   "source": [
    "# Merging Two Dictionaries"
   ]
  },
  {
   "cell_type": "code",
   "execution_count": 21,
   "id": "b5b28fe8",
   "metadata": {},
   "outputs": [
    {
     "data": {
      "text/plain": [
       "{'a': 1, 'b': 3, 'c': 4}"
      ]
     },
     "execution_count": 21,
     "metadata": {},
     "output_type": "execute_result"
    }
   ],
   "source": [
    "# Merge two dictionaries\n",
    "# in Python 3.5+:\n",
    "x = {'a': 1, 'b': 2}\n",
    "y = {'b': 3, 'c': 4}\n",
    "z = {**x, **y}\n",
    "z\n",
    "# {'c': 4, 'a': 1, 'b': 3}\n",
    "\n",
    "# in Python 2.7\n",
    "z = dict(x, **y)\n",
    "z\n",
    "# {'c': 4, 'a': 1, 'b': 3}"
   ]
  },
  {
   "cell_type": "markdown",
   "id": "af0e39c6",
   "metadata": {},
   "source": [
    "# Sets"
   ]
  },
  {
   "cell_type": "code",
   "execution_count": 23,
   "id": "546189f8",
   "metadata": {},
   "outputs": [
    {
     "data": {
      "text/plain": [
       "{1, 4}"
      ]
     },
     "execution_count": 23,
     "metadata": {},
     "output_type": "execute_result"
    }
   ],
   "source": [
    "# From the Python 3 documentation\n",
    "\n",
    "# A set is an unordered collection with no duplicate elements. Basic uses \n",
    "# include membership testing and eliminating duplicate entries. Set objects \n",
    "# also support mathematical operations like union, intersection, difference, \n",
    "# and symmetric difference.\n",
    "\n",
    "#Initializing a set\n",
    "#There are two ways to create sets: using curly braces {} and the built-in function set()\n",
    "s = {1, 2, 3}\n",
    "s = set([1, 2, 3])\n",
    "# When creating an empty set, be sure to not use the curly braces {} or you will get an empty dictionary instead.\n",
    "\n",
    "s = {}\n",
    "type(s)\n",
    "#<class 'dict'>\n",
    "\n",
    "#sets: unordered collections of unique elements\n",
    "#A set automatically remove all the duplicate values.\n",
    "s = {1, 2, 3, 2, 3, 4}\n",
    "s\n",
    "#{1, 2, 3, 4}\n",
    "\n",
    "# And as an unordered data type, they can't be indexed.\n",
    "s = {1, 2, 3}\n",
    "#s[0]\n",
    "#Traceback (most recent call last):\n",
    "#  File \"<stdin>\", line 1, in <module>\n",
    "#TypeError: 'set' object does not support indexing\n",
    "\n",
    "\n",
    "#set add() and update()\n",
    "#Using the add() method we can add a single element to the set.\n",
    "\n",
    "s = {1, 2, 3}\n",
    "s.add(4)\n",
    "s\n",
    "#{1, 2, 3, 4}\n",
    "\n",
    "#And with update(), multiple ones .\n",
    "s = {1, 2, 3}\n",
    "s.update([2, 3, 4, 5, 6])\n",
    "s\n",
    "#{1, 2, 3, 4, 5, 6}  # remember, sets automatically remove duplicates\n",
    "\n",
    "#set remove() and discard()\n",
    "#Both methods will remove an element from the set, but remove() will raise a key error if the value doesn't exist.\n",
    "s = {1, 2, 3}\n",
    "s.remove(3)\n",
    "s\n",
    "#{1, 2}\n",
    "#s.remove(3)\n",
    "#Traceback (most recent call last):\n",
    "#  File \"<stdin>\", line 1, in <module>\n",
    "#KeyError: 3\n",
    "\n",
    "#discard() won't raise any errors.\n",
    "s = {1, 2, 3}\n",
    "s.discard(3)\n",
    "s\n",
    "#{1, 2}\n",
    "s.discard(3)\n",
    "\n",
    "\n",
    "#set union()\n",
    "#union() or | will create a new set that contains all the elements from the sets provided.\n",
    "s1 = {1, 2, 3}\n",
    "s2 = {3, 4, 5}\n",
    "s1.union(s2)  # or 's1 | s2'\n",
    "#{1, 2, 3, 4, 5}\n",
    "\n",
    "#set intersection\n",
    "#intersection or & will return a set containing only the elements that are common to all of them.\n",
    "s1 = {1, 2, 3}\n",
    "s2 = {2, 3, 4}\n",
    "s3 = {3, 4, 5}\n",
    "s1.intersection(s2, s3)  # or 's1 & s2 & s3'\n",
    "#{3}\n",
    "\n",
    "#set difference\n",
    "#difference or - will return only the elements that are unique to the first set (invoked set).\n",
    "s1 = {1, 2, 3}\n",
    "s2 = {2, 3, 4}\n",
    "s1.difference(s2)  # or 's1 - s2'\n",
    "#{1}\n",
    "s2.difference(s1) # or 's2 - s1'\n",
    "#{4}\n",
    "\n",
    "#set symetric_difference\n",
    "#symetric_difference or ^ will return all the elements that are not common between them.\n",
    "s1 = {1, 2, 3}\n",
    "s2 = {2, 3, 4}\n",
    "s1.symmetric_difference(s2)  # or 's1 ^ s2'\n",
    "#{1, 4}\n"
   ]
  },
  {
   "cell_type": "markdown",
   "id": "4a35798d",
   "metadata": {},
   "source": [
    "# String Formatting"
   ]
  },
  {
   "cell_type": "code",
   "execution_count": 34,
   "id": "8555671b",
   "metadata": {},
   "outputs": [
    {
     "name": "stdout",
     "output_type": "stream",
     "text": [
      "Kylie's favorite number is 8, 8 is Kylie's favorite number\n",
      "\n",
      "\n",
      "I own 32.55% of the company\n",
      "\n",
      "\n",
      "The approximate population of India is 1,324,000,000\n"
     ]
    }
   ],
   "source": [
    "output = \"{0}'s favorite number is {1}, {1} is {0}'s favorite number\".format(\"Kylie\", 8)\n",
    "print(output)\n",
    "\n",
    "print('\\n')\n",
    "\n",
    "num = 32.554865\n",
    "print(\"I own {pct:.2f}% of the company\".format(pct=num))\n",
    "\n",
    "print('\\n')\n",
    "\n",
    "print(\"The approximate population of {0} is {1:,}\".format(\"India\",1324000000))"
   ]
  },
  {
   "cell_type": "markdown",
   "id": "94489516",
   "metadata": {},
   "source": [
    "# Format Specification\n",
    "[Python 3 Format Specification](https://docs.python.org/3/library/string.html#formatspec)"
   ]
  },
  {
   "cell_type": "markdown",
   "id": "0fc81649",
   "metadata": {},
   "source": [
    "# Markdown\n",
    "[Common Mark Specification](https://commonmark.org/help/)"
   ]
  },
  {
   "cell_type": "markdown",
   "id": "68b77d8b",
   "metadata": {},
   "source": [
    "# Python 3 Documentation \n",
    "\n",
    "[Python 3 Documentation](https://docs.python.org/3/)"
   ]
  },
  {
   "cell_type": "code",
   "execution_count": 7,
   "id": "5727523f",
   "metadata": {},
   "outputs": [
    {
     "name": "stdout",
     "output_type": "stream",
     "text": [
      "alicebob\n",
      "AliceAliceAliceAliceAlice\n",
      "What is your name?\n",
      "the list is not empty!\n",
      "1.1\n",
      "5\n",
      "1.0\n",
      "True\n",
      "true\n",
      "0 printed\n",
      "1 printed\n",
      "2 printed\n",
      "3 printed\n",
      "4 printed\n",
      "\n",
      "3 printed\n",
      "2 printed\n",
      "1 printed\n",
      "0 printed\n",
      "-1 printed\n"
     ]
    }
   ],
   "source": [
    "# Math Operators\n",
    "# 2 ** 3 = 8 (exponent)\n",
    "\n",
    "# 22 % 8 = 6 (moduululs)\n",
    "# 22 // 8 = 2\n",
    "\n",
    "# String concat\n",
    "print('alice' 'bob') #alicebob\n",
    "print('Alice' * 5) \n",
    "#AliceAliceAliceAliceAlice\n",
    "\n",
    "# Function DocString\n",
    "def foo():\n",
    "    \"\"\"\n",
    "    This is a function docstring\n",
    "    You can also use:\n",
    "    ''' Function Docstring '''\n",
    "    \"\"\"\n",
    "\n",
    "# input\n",
    "print('What is your name?')   # ask for their name\n",
    "#myName = input()\n",
    "#print('It is good to meet you, {}'.format(myName))\n",
    "    \n",
    "# Testing the emptiness\n",
    "# Test of emptiness of strings, lists, dictionary, etc,\n",
    "# should not use len, but prefer direct boolean evaluation.\n",
    "a = [1, 2, 3]\n",
    "if a:\n",
    "    print(\"the list is not empty!\")\n",
    "    \n",
    "    \n",
    "# Casting\n",
    "print(str(1.1))\n",
    "print(int(5.9))\n",
    "print(float(1))\n",
    "\n",
    "print(43 == 43.0)\n",
    "\n",
    "# Boolean Evaluation\n",
    "# Never use == or != operator to evaluate boolean operation. \n",
    "# Use the is or is not operators, or use implicit boolean evaluation.\n",
    "a = True\n",
    "if a or a is True or a is not False:\n",
    "    print('true')\n",
    "\n",
    "# if, else, elif\n",
    "# while, break, continue \n",
    "\n",
    "#range\n",
    "for i in range(5):\n",
    "    print('{} printed'.format(i))\n",
    "    \n",
    "print()\n",
    "for i in range(3, -2, -1):\n",
    "    print('{} printed'.format(i))\n"
   ]
  },
  {
   "cell_type": "code",
   "execution_count": 6,
   "id": "4e16b7da",
   "metadata": {},
   "outputs": [
    {
     "name": "stdout",
     "output_type": "stream",
     "text": [
      "1\n",
      "2\n",
      "3\n"
     ]
    }
   ],
   "source": [
    "# The else clause executes after the loop completes normally. \n",
    "# This means that the loop did not encounter a break statement. \n",
    "for i in [1, 2, 3, 4, 5]:\n",
    "    print(i)\n",
    "    if i == 3:\n",
    "        break\n",
    "else:\n",
    "    print(\"only executed when no item of the list is equal to 3\")"
   ]
  },
  {
   "cell_type": "markdown",
   "id": "cd80f43a",
   "metadata": {},
   "source": [
    "# From vs Import\n",
    "[From vs Import](https://stackoverflow.com/questions/9439480/from-import-vs-import)"
   ]
  },
  {
   "cell_type": "code",
   "execution_count": 8,
   "id": "cc042fe7",
   "metadata": {},
   "outputs": [
    {
     "name": "stdout",
     "output_type": "stream",
     "text": [
      "4\n",
      "10\n",
      "9\n",
      "10\n",
      "5\n"
     ]
    }
   ],
   "source": [
    "import random\n",
    "for i in range(5):\n",
    "    print(random.randint(1, 10))\n",
    "import random, sys, os, math\n",
    "from random import *\n"
   ]
  },
  {
   "cell_type": "markdown",
   "id": "0480f0c7",
   "metadata": {},
   "source": [
    "# The none value"
   ]
  },
  {
   "cell_type": "code",
   "execution_count": 10,
   "id": "5abfdadd",
   "metadata": {},
   "outputs": [
    {
     "name": "stdout",
     "output_type": "stream",
     "text": [
      "Hello!\n"
     ]
    },
    {
     "data": {
      "text/plain": [
       "True"
      ]
     },
     "execution_count": 10,
     "metadata": {},
     "output_type": "execute_result"
    }
   ],
   "source": [
    "# Note: never compare to None with the == operator. Always use is.\n",
    "spam = print('Hello!')\n",
    "spam is None\n"
   ]
  },
  {
   "cell_type": "markdown",
   "id": "ecb5dac9",
   "metadata": {},
   "source": [
    "# Keyword Arguments and Print"
   ]
  },
  {
   "cell_type": "code",
   "execution_count": 11,
   "id": "c41252c7",
   "metadata": {},
   "outputs": [
    {
     "name": "stdout",
     "output_type": "stream",
     "text": [
      "HelloWorld\n",
      "cats dogs mice\n",
      "cats,dogs,mice\n"
     ]
    }
   ],
   "source": [
    "print('Hello', end='')\n",
    "print('World')\n",
    "\n",
    "print('cats', 'dogs', 'mice')\n",
    "\n",
    "print('cats', 'dogs', 'mice', sep=',')"
   ]
  },
  {
   "cell_type": "markdown",
   "id": "3dd78aa5",
   "metadata": {},
   "source": [
    "# Local and Global Scope\n",
    "* Code in the global scope cannot use any local variables.\n",
    "* However, a local scope can access global variables.\n",
    "* Code in a function’s local scope cannot use variables in any other local scope.\n",
    "* You can use the same name for different variables if they are in different scopes. That is, there can be a local variable named spam and a global variable also named spam.\n",
    "\n",
    "## The global Statement\n",
    "If you need to modify a global variable from within a function, use the global statement:"
   ]
  },
  {
   "cell_type": "code",
   "execution_count": 12,
   "id": "d9166029",
   "metadata": {},
   "outputs": [
    {
     "name": "stdout",
     "output_type": "stream",
     "text": [
      "spam\n"
     ]
    }
   ],
   "source": [
    "def spam():\n",
    "    global eggs\n",
    "    eggs = 'spam'\n",
    "\n",
    "eggs = 'global'\n",
    "spam()\n",
    "print(eggs)"
   ]
  },
  {
   "cell_type": "markdown",
   "id": "f310dd57",
   "metadata": {},
   "source": [
    "There are four rules to tell whether a variable is in a local scope or global scope:\n",
    "1. If a variable is being used in the global scope (that is, outside of all functions), then it is always a global variable.\n",
    "2. If there is a global statement for that variable in a function, it is a global variable.\n",
    "3. Otherwise, if the variable is used in an assignment statement in the function, it is a local variable.\n",
    "4. But if the variable is not used in an assignment statement, it is a global variable."
   ]
  },
  {
   "cell_type": "markdown",
   "id": "3e655549",
   "metadata": {},
   "source": [
    "## Exception Handling\n",
    "# Basic exception handling"
   ]
  },
  {
   "cell_type": "code",
   "execution_count": 2,
   "id": "90797ee3",
   "metadata": {},
   "outputs": [
    {
     "name": "stdout",
     "output_type": "stream",
     "text": [
      "-- division finished --\n",
      "21.0\n",
      "-- division finished --\n",
      "3.5\n",
      "Error: Invalid argument: division by zero\n",
      "-- division finished --\n",
      "None\n",
      "-- division finished --\n",
      "42.0\n"
     ]
    }
   ],
   "source": [
    "def spam(divideBy):\n",
    "    try:\n",
    "        return 42 / divideBy\n",
    "    except ZeroDivisionError as e:\n",
    "        print('Error: Invalid argument: {}'.format(e))\n",
    "    finally: \n",
    "        print(\"-- division finished --\")\n",
    "\n",
    "print(spam(2))\n",
    "print(spam(12))\n",
    "print(spam(0))\n",
    "print(spam(1))"
   ]
  },
  {
   "cell_type": "markdown",
   "id": "f3b43d29",
   "metadata": {},
   "source": [
    "# accumulate()"
   ]
  },
  {
   "cell_type": "code",
   "execution_count": 24,
   "id": "4dc55f18",
   "metadata": {},
   "outputs": [
    {
     "ename": "SyntaxError",
     "evalue": "invalid syntax (2996904669.py, line 1)",
     "output_type": "error",
     "traceback": [
      "\u001b[1;36m  Input \u001b[1;32mIn [24]\u001b[1;36m\u001b[0m\n\u001b[1;33m    Makes an iterator that returns the results of a function.\u001b[0m\n\u001b[1;37m          ^\u001b[0m\n\u001b[1;31mSyntaxError\u001b[0m\u001b[1;31m:\u001b[0m invalid syntax\n"
     ]
    }
   ],
   "source": [
    "# Makes an iterator that returns the results of a function.\n",
    "\n",
    "# itertools.accumulate(iterable[, func])\n",
    "# Example:\n",
    "\n",
    "data = [1, 2, 3, 4, 5]\n",
    "result = itertools.accumulate(data, operator.mul)\n",
    "for each in result:\n",
    "   print(each)\n",
    "# 1\n",
    "# 2\n",
    "# 6\n",
    "# 24\n",
    "# 120\n",
    "\n",
    "# The operator.mul takes two numbers and multiplies them:\n",
    "operator.mul(1, 2)\n",
    "# 2\n",
    "operator.mul(2, 3)\n",
    "# 6\n",
    "operator.mul(6, 4)\n",
    "# 24\n",
    "operator.mul(24, 5)\n",
    "# 120\n",
    "\n",
    "#Passing a function is optional:\n",
    "data = [5, 2, 6, 4, 5, 9, 1]\n",
    "result = itertools.accumulate(data)\n",
    "for each in result:\n",
    "   print(each)\n",
    "# 5\n",
    "# 7\n",
    "# 13\n",
    "# 17\n",
    "# 22\n",
    "# 31\n",
    "# 32\n",
    "\n",
    "# If no function is designated the items will be summed:"
   ]
  },
  {
   "cell_type": "code",
   "execution_count": null,
   "id": "3e7017f4",
   "metadata": {},
   "outputs": [],
   "source": []
  }
 ],
 "metadata": {
  "kernelspec": {
   "display_name": "Python 3 (ipykernel)",
   "language": "python",
   "name": "python3"
  },
  "language_info": {
   "codemirror_mode": {
    "name": "ipython",
    "version": 3
   },
   "file_extension": ".py",
   "mimetype": "text/x-python",
   "name": "python",
   "nbconvert_exporter": "python",
   "pygments_lexer": "ipython3",
   "version": "3.10.2"
  }
 },
 "nbformat": 4,
 "nbformat_minor": 5
}
