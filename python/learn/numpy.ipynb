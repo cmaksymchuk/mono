{
 "cells": [
  {
   "cell_type": "code",
   "execution_count": null,
   "id": "cf5bb215",
   "metadata": {},
   "outputs": [],
   "source": [
    "# https://app.dataquest.io/c/54/m/290/boolean-indexing-with-numpy/12/takeaways\n",
    "# Reading in a CSV file:\n",
    "import numpy as nptaxi = np.genfromtxt('nyctaxis.csv', delimiter=',', skip_header=1)\n",
    "\n",
    "# Creating a Boolean array from filtering criteria:\n",
    "np.array([2,4,6,8]) < 5\n",
    "\n",
    "# Boolean filtering for 1D ndarray:\n",
    "a = np.array([2,4,6,8])filter = a < 5a[filter]\n",
    "\n",
    "# Boolean filtering for 2D ndarray:\n",
    "tip_amount = taxi[:,12]\n",
    "tip_bool = tip_amount > 50\n",
    "top_tips = taxi[tip_bool, 5:14]\n",
    "\n",
    "# Assigning values in a 2D ndarray using indices:\n",
    "taxi[1066,5] = 1taxi[:,0] = 16\n",
    "taxi[550:552,7] = taxi[:,7].mean()\n",
    "\n",
    "# Assigning values using Boolean arrays:\n",
    "taxi[taxi[:, 5] == 2, 15] = 1"
   ]
  },
  {
   "cell_type": "code",
   "execution_count": null,
   "id": "f69dc2d0",
   "metadata": {},
   "outputs": [],
   "source": [
    "# Pandas\n",
    "# Select a single row\n",
    "\n",
    "single_row = f500_selection.loc[\"Sinopec Group\"]\n",
    "\n",
    "single_row = f500_selection.loc[\"Sinopec Group\"]\n",
    "print(type(single_row))\n",
    "print(single_row)\n",
    "\n",
    "# Columns\n",
    "countries = f500[\"country\"]\n",
    "revenues_years = f500[[\"revenues\", \"years_on_global_500_list\"]]\n",
    "ceo_to_sector = f500.loc[:, \"ceo\":\"sector\"]\n",
    "# Shortcut for cols (note no loc)\n",
    "ceo_to_sector = f500[\"ceo\":\"sector\"]"
   ]
  },
  {
   "cell_type": "code",
   "execution_count": null,
   "id": "cbca2b26",
   "metadata": {},
   "outputs": [],
   "source": [
    "# the Series.value_counts() method. \n",
    "# This method displays each unique non-null value in a column and their counts in order.\n",
    "# A built in frequency table?\n",
    "sectors_value_counts = sectors.value_counts()\n",
    "print(sectors_value_counts)"
   ]
  }
 ],
 "metadata": {
  "kernelspec": {
   "display_name": "Python 3 (ipykernel)",
   "language": "python",
   "name": "python3"
  },
  "language_info": {
   "codemirror_mode": {
    "name": "ipython",
    "version": 3
   },
   "file_extension": ".py",
   "mimetype": "text/x-python",
   "name": "python",
   "nbconvert_exporter": "python",
   "pygments_lexer": "ipython3",
   "version": "3.10.2"
  }
 },
 "nbformat": 4,
 "nbformat_minor": 5
}
