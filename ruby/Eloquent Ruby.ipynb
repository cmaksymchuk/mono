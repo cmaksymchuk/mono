{
 "cells": [
  {
   "cell_type": "markdown",
   "id": "e8f01917",
   "metadata": {},
   "source": [
    "At its core, the Ruby style of programming is built on a couple of very simple ideas:\n",
    "The first is that code should be crystal clear—good code tells the reader exactly what\n",
    "it is trying to do. Great code shouts its intent. The second idea is related to the first:\n",
    "Since there is a limit to how much information you can keep in your head at any given\n",
    "moment, good code is not just clear, it is also concise. It’s much easier to understand\n",
    "what a method or a class is doing if you can take it all in at a glance."
   ]
  },
  {
   "cell_type": "markdown",
   "id": "b07f851a",
   "metadata": {},
   "source": [
    "## attr_accessor"
   ]
  },
  {
   "cell_type": "code",
   "execution_count": 11,
   "id": "ec8910e2",
   "metadata": {},
   "outputs": [
    {
     "name": "stdout",
     "output_type": "stream",
     "text": [
      "Dennis\n",
      "Dennis"
     ]
    }
   ],
   "source": [
    "class Person\n",
    "  def name\n",
    "    @name\n",
    "  end\n",
    "\n",
    "  def name=(str)\n",
    "    @name = str\n",
    "  end\n",
    "end\n",
    "\n",
    "person = Person.new\n",
    "person.name = 'Dennis'\n",
    "person.name # => \"Dennis\"\n",
    "print(person.name + \"\\n\")\n",
    "\n",
    "# ============ Better\n",
    "\n",
    "class Person2\n",
    "  attr_accessor :name    \n",
    "end\n",
    "\n",
    "person = Person2.new\n",
    "person.name = 'Dennis'\n",
    "person.name # => \"Dennis\"\n",
    "print(person.name)"
   ]
  },
  {
   "cell_type": "markdown",
   "id": "dbd94fa8",
   "metadata": {},
   "source": [
    "* Ruby is tab free.  Two spaces for indent.  No exceptions.\n",
    "* Remember, good code is like a good joke: It needs no explanation.  If you find the need to comment, maybe think about rewriting.\n",
    "* Camels for classes, snakes for everything else: With a few notable exceptions, you should use lowercase_words_separated_by_underscores. Almost everything in this context means methods, arguments, and variables, including instance variables.\n",
    "* Constants can be all upper OR Camel.  \n"
   ]
  },
  {
   "cell_type": "code",
   "execution_count": 12,
   "id": "df45b2c1",
   "metadata": {},
   "outputs": [
    {
     "data": {
      "text/plain": [
       "2"
      ]
     },
     "execution_count": 12,
     "metadata": {},
     "output_type": "execute_result"
    }
   ],
   "source": [
    "# Constants Or all uppercase with underscores, punctuated by underscores:\n",
    "FurlongsPerFortnight = 0.0001663\n",
    "ANTLERS_PER_MALE_MOOSE = 2"
   ]
  },
  {
   "cell_type": "markdown",
   "id": "18049d91",
   "metadata": {},
   "source": [
    "Puts vs Print"
   ]
  },
  {
   "cell_type": "markdown",
   "id": "0765b92c",
   "metadata": {},
   "source": [
    "Puts adds a newline, print doesn't.  Also differs on arrays.  Use puts in general.\n",
    "\n",
    "Print and puts are the same, Only puts:\n",
    "\n",
    "Adds a new line to the end of your messages\n",
    "Displays array elements one-per-line"
   ]
  },
  {
   "cell_type": "markdown",
   "id": "c80f1568",
   "metadata": {},
   "source": [
    "## Parentesis\n",
    "\n",
    "Parentehesis are optional and occasionally forbidden.  \n",
    "Dont use parenthesis on puts\n"
   ]
  },
  {
   "cell_type": "code",
   "execution_count": 20,
   "id": "85a1122d",
   "metadata": {},
   "outputs": [
    {
     "data": {
      "text/plain": [
       ":foo"
      ]
     },
     "execution_count": 20,
     "metadata": {},
     "output_type": "execute_result"
    }
   ],
   "source": [
    "# even if you prefer parenthesis, keep them out when no parameters\n",
    "class Document\n",
    "  \n",
    "  attr_accessor :title, :author, :content\n",
    "\n",
    "  def words\n",
    "    @content.split\n",
    "  end\n",
    "  # no this\n",
    "  def words()\n",
    "    @content.split()\n",
    "  end\n",
    "\n",
    "  def foo\n",
    "    # prefer this\n",
    "    if words.size < 100\n",
    "      puts 'The document is not very long.'\n",
    "    end\n",
    "    # to this\n",
    "    if ( words.size < 100 )\n",
    "      puts 'The document is not very long.'\n",
    "    end\n",
    "  end\n",
    "end"
   ]
  },
  {
   "cell_type": "markdown",
   "id": "e4d3e1db",
   "metadata": {},
   "source": [
    "Ruby programmers have, however, a simple rule for formatting of code blocks:\n",
    "* If your block consists of a single statement, fold the whole statement into a single line and delimit the block with braces. \n",
    "* Alternatively, if you have a multistatement block, spread the block out over a number of lines, and use the do/end form."
   ]
  },
  {
   "cell_type": "code",
   "execution_count": 22,
   "id": "268e56b0",
   "metadata": {},
   "outputs": [
    {
     "name": "stdout",
     "output_type": "stream",
     "text": [
      "The number is 0\n",
      "The number is 1\n",
      "The number is 2\n",
      "The number is 3\n",
      "The number is 4\n",
      "The number is 5\n",
      "The number is 6\n",
      "The number is 7\n",
      "The number is 8\n",
      "The number is 9\n",
      "The number is 0\n",
      "Twice the number is 0\n",
      "The number is 1\n",
      "Twice the number is 2\n",
      "The number is 2\n",
      "Twice the number is 4\n",
      "The number is 3\n",
      "Twice the number is 6\n",
      "The number is 4\n",
      "Twice the number is 8\n",
      "The number is 5\n",
      "Twice the number is 10\n",
      "The number is 6\n",
      "Twice the number is 12\n",
      "The number is 7\n",
      "Twice the number is 14\n",
      "The number is 8\n",
      "Twice the number is 16\n",
      "The number is 9\n",
      "Twice the number is 18\n"
     ]
    },
    {
     "data": {
      "text/plain": [
       "10"
      ]
     },
     "execution_count": 22,
     "metadata": {},
     "output_type": "execute_result"
    }
   ],
   "source": [
    "10.times { |n| puts \"The number is #{n}\" }\n",
    "\n",
    "10.times do |n|\n",
    "  puts \"The number is #{n}\"\n",
    "  puts \"Twice the number is #{n*2}\"\n",
    "end"
   ]
  },
  {
   "cell_type": "markdown",
   "id": "29085a5f",
   "metadata": {},
   "source": [
    "## ? and ! in method names\n",
    "If you look closely at the Set class you will see a couple of additional method name conventions at work. The first is that Ruby programmers will usually end the name of a method that answers a yes/no or true/false question with a question mark.\n",
    "\n",
    "So if you do peek into Set you will find the include? method as well as superset? and empty?. Don’t be fooled by that exotic-looking question mark: It’s just an ordinary part of the method name, not some special Ruby syntax. The same thing is true\n",
    "of exclamation points at the end of a method name: The Ruby rules say that ! is a fine character with which to end a method name. In practice, Ruby programmers reserve ! to adorn the names of methods that do something unexpected, or perhaps a bit dangerous. So the Set class has flatten! and map!, both of which change the class in place instead of returning a modified copy."
   ]
  }
 ],
 "metadata": {
  "kernelspec": {
   "display_name": "Ruby 3.1.2",
   "language": "ruby",
   "name": "ruby"
  },
  "language_info": {
   "file_extension": ".rb",
   "mimetype": "application/x-ruby",
   "name": "ruby",
   "version": "3.1.2"
  }
 },
 "nbformat": 4,
 "nbformat_minor": 5
}
