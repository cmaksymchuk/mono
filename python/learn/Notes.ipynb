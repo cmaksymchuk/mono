{
 "cells": [
  {
   "cell_type": "markdown",
   "id": "9b9f4061",
   "metadata": {},
   "source": [
    "# Python Cheet Sheet\n",
    "[https://www.pythoncheatsheet.org/](https://www.pythoncheatsheet.org/)"
   ]
  },
  {
   "cell_type": "markdown",
   "id": "95a21299",
   "metadata": {},
   "source": [
    "## Lists and Slicing"
   ]
  },
  {
   "cell_type": "code",
   "execution_count": 9,
   "id": "54047e17",
   "metadata": {},
   "outputs": [
    {
     "name": "stdout",
     "output_type": "stream",
     "text": [
      "lst=[0, 1, 2, 3, 4, 5, 6, 7, 8, 9]\n",
      "lst[0:]=[0, 1, 2, 3, 4, 5, 6, 7, 8, 9]\n",
      "lst[1:]=[1, 2, 3, 4, 5, 6, 7, 8, 9]\n",
      "lst[-1]=9\n",
      "lst[:2]=[0, 1]\n",
      "lst[:-3]=7\n",
      "lst[:-1]=[0, 1, 2, 3, 4, 5, 6, 7, 8]\n",
      "lst[0:-1]=[0, 1, 2, 3, 4, 5, 6, 7, 8]\n",
      "lst[-3:-1]=[7, 8]\n",
      "spam=['cat', 'bat', 'rat', 'elephant', 'dog']\n",
      "spam2=['cat', 'bat', 'rat', 'elephant']\n",
      "[1, 2, 3, 'A', 'B', 'C']\n",
      "['X', 'Y', 'Z']\n",
      "[1, 2, 3, 'A', 'B', 'C']\n",
      "Index 0 in supplies is: pens\n",
      "Index 1 in supplies is: staplers\n",
      "Index 2 in supplies is: flame-throwers\n",
      "Index 3 in supplies is: binders\n",
      "Pete is 6 years old\n",
      "John is 23 years old\n",
      "Elizabeth is 44 years old\n"
     ]
    }
   ],
   "source": [
    "\n",
    "lst = [i for i in range(0,9+1)]\n",
    "print('%s%s' % ('lst=' , lst))\n",
    "print('%s%s' % ('lst[0:]=' , lst[0:]))\n",
    "print('%s%s' % ('lst[1:]=' , lst[1:]))\n",
    "print('%s%s' % ('lst[-1]=' , lst[-1]))\n",
    "print('%s%s' % ('lst[:2]=' , lst[:2]))\n",
    "print('%s%s' % ('lst[:-3]=' , lst[-3]))\n",
    "print('%s%s' % ('lst[:-1]=' , lst[:-1]))\n",
    "print('%s%s' % ('lst[0:-1]=' , lst[0:-1]))\n",
    "print('%s%s' % ('lst[-3:-1]=' , lst[-3:-1]))\n",
    "\n",
    "# copy a list using slicing with no indexes\n",
    "spam = ['cat', 'bat', 'rat', 'elephant']\n",
    "spam2 = spam[:]\n",
    "spam.append('dog')\n",
    "print('spam=' + str(spam))\n",
    "print('spam2=' + str(spam2))\n",
    "\n",
    "# List concat and replication\n",
    "print([1, 2, 3] + ['A', 'B', 'C'])\n",
    "print(['X', 'Y', 'Z'])\n",
    "\n",
    "spam = [1, 2, 3]\n",
    "spam = spam + ['A', 'B', 'C']\n",
    "print(spam)\n",
    "\n",
    "# Removing Values from Lists with del Statements\n",
    "spam = ['cat', 'bat', 'rat', 'elephant']\n",
    "del spam[2]\n",
    "spam\n",
    "\n",
    "# Using for Loops with Lists\n",
    "supplies = ['pens', 'staplers', 'flame-throwers', 'binders']\n",
    "for i, supply in enumerate(supplies):\n",
    "    print('Index {} in supplies is: {}'.format(str(i), supply))\n",
    "    \n",
    "# Looping Through Multiple Lists with zip()\n",
    "name = ['Pete', 'John', 'Elizabeth']\n",
    "age = [6, 23, 44]\n",
    "for n, a in zip(name, age):\n",
    "    print('{} is {} years old'.format(n, a))\n",
    "    \n",
    "# The in and not in Operators\n",
    "'howdy' in ['hello', 'hi', 'howdy', 'heyas'] # returns true"
   ]
  },
  {
   "cell_type": "markdown",
   "id": "5148c423",
   "metadata": {},
   "source": [
    "# Multiple Assignment Trick"
   ]
  },
  {
   "cell_type": "code",
   "execution_count": 11,
   "id": "45ad4a62",
   "metadata": {},
   "outputs": [
    {
     "name": "stdout",
     "output_type": "stream",
     "text": [
      "fat orange loud\n",
      "Bob\n"
     ]
    }
   ],
   "source": [
    "cat = ['fat', 'orange', 'loud']\n",
    "\n",
    "size, color, disposition = cat\n",
    "print(size, color, disposition)\n",
    "\n",
    "# Very Cool, swapping variables\n",
    "a, b = 'Alice', 'Bob'\n",
    "a, b = b, a\n",
    "print(a) # 'Bob'"
   ]
  },
  {
   "cell_type": "markdown",
   "id": "f988fe3e",
   "metadata": {},
   "source": [
    "# List Append, Insert, Remove, Sort"
   ]
  },
  {
   "cell_type": "code",
   "execution_count": 12,
   "id": "e2655317",
   "metadata": {},
   "outputs": [
    {
     "data": {
      "text/plain": [
       "['ants', 'badgers', 'cats', 'dogs', 'elephants']"
      ]
     },
     "execution_count": 12,
     "metadata": {},
     "output_type": "execute_result"
    }
   ],
   "source": [
    "# append \n",
    "spam = ['cat', 'dog', 'bat']\n",
    "spam.append('moose')\n",
    "spam\n",
    "\n",
    "# insert():\n",
    "spam = ['cat', 'dog', 'bat']\n",
    "spam.insert(1, 'chicken')\n",
    "spam\n",
    "\n",
    "# Removing Values from Lists with remove()\n",
    "spam = ['cat', 'bat', 'rat', 'elephant']\n",
    "spam.remove('bat') #['cat', 'rat', 'elephant']\n",
    "# If the value appears multiple times in the list, only the first instance of the value will be removed.\n",
    "\n",
    "# Sorting the Values in a List with the sort() Method\n",
    "spam = [2, 5, 3.14, 1, -7]\n",
    "spam.sort()\n",
    "spam # [-7, 1, 2, 3.14, 5]\n",
    "\n",
    "spam = ['ants', 'cats', 'dogs', 'badgers', 'elephants']\n",
    "spam.sort()\n",
    "spam # ['ants', 'badgers', 'cats', 'dogs', 'elephants']\n",
    "\n",
    "# You can also pass True for the reverse keyword argument to have sort() sort the values in reverse order:\n",
    "spam.sort(reverse=True)\n",
    "spam # ['elephants', 'dogs', 'cats', 'badgers', 'ants']\n",
    "\n",
    "# If you need to sort the values in regular alphabetical order, pass str. lower for the key keyword argument in the sort() method call:\n",
    "spam = ['a', 'z', 'A', 'Z']\n",
    "spam.sort(key=str.lower)\n",
    "spam # ['a', 'A', 'z', 'Z']\n",
    "\n",
    "#You can use the built-in function sorted to return a new list:\n",
    "spam = ['ants', 'cats', 'dogs', 'badgers', 'elephants']\n",
    "sorted(spam) # ['ants', 'badgers', 'cats', 'dogs', 'elephants']"
   ]
  },
  {
   "cell_type": "markdown",
   "id": "a4ff4925",
   "metadata": {},
   "source": [
    "# Tuple Data Type"
   ]
  },
  {
   "cell_type": "code",
   "execution_count": 17,
   "id": "c2ad1df0",
   "metadata": {},
   "outputs": [
    {
     "data": {
      "text/plain": [
       "['h', 'e', 'l', 'l', 'o']"
      ]
     },
     "execution_count": 17,
     "metadata": {},
     "output_type": "execute_result"
    }
   ],
   "source": [
    "eggs = ('hello', 42, 0.5)\n",
    "eggs[0] # 'hello'\n",
    "eggs[1:3] # (42, 0.5)\n",
    "len(eggs) # 3\n",
    "# The main way that tuples are different from lists is that tuples, like strings, are immutable.\n",
    "\n",
    "# Converting Types with the list() and tuple() Functions\n",
    "tuple(['cat', 'dog', 5]) #('cat', 'dog', 5)\n",
    "list(('cat', 'dog', 5)) #['cat', 'dog', 5]\n",
    "list('hello') #['h', 'e', 'l', 'l', 'o']"
   ]
  },
  {
   "cell_type": "markdown",
   "id": "16477fc8",
   "metadata": {},
   "source": [
    "# Dictionaries and Structuring Data"
   ]
  },
  {
   "cell_type": "code",
   "execution_count": null,
   "id": "7d2bcd9e",
   "metadata": {},
   "outputs": [],
   "source": [
    "# Example Dictionary:\n",
    "myCat = {'size': 'fat', 'color': 'gray', 'disposition': 'loud'}\n",
    "The keys(), values(), and items() Methods\n",
    "\n",
    "# values():\n",
    "spam = {'color': 'red', 'age': 42}\n",
    "for v in spam.values():\n",
    "    print(v)\n",
    "#red\n",
    "#42\n",
    "#keys():\n",
    "\n",
    "for k in spam.keys():\n",
    "    print(k)\n",
    "#color\n",
    "#age\n",
    "\n",
    "#items():\n",
    "for i in spam.items():\n",
    "    print(i)\n",
    "#('color', 'red')\n",
    "#('age', 42)\n",
    "\n",
    "# Using the keys(), values(), and items() methods, \n",
    "# a for loop can iterate over the keys, values, \n",
    "# or key-value pairs in a dictionary, respectively.\n",
    "spam = {'color': 'red', 'age': 42}\n",
    "for k, v in spam.items():\n",
    "    print('Key: {} Value: {}'.format(k, str(v)))\n",
    "#Key: age Value: 42\n",
    "#Key: color Value: red\n",
    "\n",
    "\n",
    "#Checking Whether a Key or Value Exists in a Dictionary\n",
    "spam = {'name': 'Zophie', 'age': 7}\n",
    "'name' in spam.keys()\n",
    "#True\n",
    "'Zophie' in spam.values()\n",
    "#True\n",
    "\n",
    "# You can omit the call to keys() when checking for a key\n",
    "'color' in spam\n",
    "#False\n",
    "'color' not in spam\n",
    "#True\n",
    "\n",
    "#The get() Method\n",
    "#Get has two parameters: key and default value if the key did not exist\n",
    "\n",
    "picnic_items = {'apples': 5, 'cups': 2}\n",
    "\n",
    "'I am bringing {} cups.'.format(str(picnic_items.get('cups', 0)))\n",
    "#'I am bringing 2 cups.'\n",
    "'I am bringing {} eggs.'.format(str(picnic_items.get('eggs', 0)))\n",
    "#'I am bringing 0 eggs.'\n",
    "\n",
    "#The setdefault() Method\n",
    "#Let's consider this code:\n",
    "spam = {'name': 'Pooka', 'age': 5}\n",
    "if 'color' not in spam:\n",
    "    spam['color'] = 'black'\n",
    "\n",
    "#Using setdefault we could write the same code more succinctly:\n",
    "spam = {'name': 'Pooka', 'age': 5}\n",
    "spam.setdefault('color', 'black')\n",
    "#'black'\n",
    "spam\n",
    "{'color': 'black', 'age': 5, 'name': 'Pooka'}\n",
    "spam.setdefault('color', 'white')\n",
    "#'black'\n",
    "spam\n",
    "#{'color': 'black', 'age': 5, 'name': 'Poboka'}"
   ]
  },
  {
   "cell_type": "markdown",
   "id": "96f3ac22",
   "metadata": {},
   "source": [
    "# Pretty Printing"
   ]
  },
  {
   "cell_type": "code",
   "execution_count": 18,
   "id": "1ba6f9d8",
   "metadata": {},
   "outputs": [
    {
     "name": "stdout",
     "output_type": "stream",
     "text": [
      "{' ': 13,\n",
      " ',': 1,\n",
      " '.': 1,\n",
      " 'A': 1,\n",
      " 'I': 1,\n",
      " 'a': 4,\n",
      " 'b': 1,\n",
      " 'c': 3,\n",
      " 'd': 3,\n",
      " 'e': 5,\n",
      " 'g': 2,\n",
      " 'h': 3,\n",
      " 'i': 6,\n",
      " 'k': 2,\n",
      " 'l': 3,\n",
      " 'n': 4,\n",
      " 'o': 2,\n",
      " 'p': 1,\n",
      " 'r': 5,\n",
      " 's': 3,\n",
      " 't': 6,\n",
      " 'w': 2,\n",
      " 'y': 1}\n"
     ]
    }
   ],
   "source": [
    "import pprint\n",
    "\n",
    "message = 'It was a bright cold day in April, and the clocks were striking thirteen.'\n",
    "count = {}\n",
    "\n",
    "for character in message:\n",
    "    count.setdefault(character, 0)\n",
    "    count[character] = count[character] + 1\n",
    "pprint.pprint(count)"
   ]
  },
  {
   "cell_type": "markdown",
   "id": "cb858114",
   "metadata": {},
   "source": [
    "# Merging Two Dictionaries"
   ]
  },
  {
   "cell_type": "code",
   "execution_count": 21,
   "id": "1734a3bf",
   "metadata": {},
   "outputs": [
    {
     "data": {
      "text/plain": [
       "{'a': 1, 'b': 3, 'c': 4}"
      ]
     },
     "execution_count": 21,
     "metadata": {},
     "output_type": "execute_result"
    }
   ],
   "source": [
    "# Merge two dictionaries\n",
    "# in Python 3.5+:\n",
    "x = {'a': 1, 'b': 2}\n",
    "y = {'b': 3, 'c': 4}\n",
    "z = {**x, **y}\n",
    "z\n",
    "# {'c': 4, 'a': 1, 'b': 3}\n",
    "\n",
    "# in Python 2.7\n",
    "z = dict(x, **y)\n",
    "z\n",
    "# {'c': 4, 'a': 1, 'b': 3}"
   ]
  },
  {
   "cell_type": "markdown",
   "id": "abd6352a",
   "metadata": {},
   "source": [
    "# Sets"
   ]
  },
  {
   "cell_type": "code",
   "execution_count": 23,
   "id": "1da9703a",
   "metadata": {},
   "outputs": [
    {
     "data": {
      "text/plain": [
       "{1, 4}"
      ]
     },
     "execution_count": 23,
     "metadata": {},
     "output_type": "execute_result"
    }
   ],
   "source": [
    "# From the Python 3 documentation\n",
    "\n",
    "# A set is an unordered collection with no duplicate elements. Basic uses \n",
    "# include membership testing and eliminating duplicate entries. Set objects \n",
    "# also support mathematical operations like union, intersection, difference, \n",
    "# and symmetric difference.\n",
    "\n",
    "#Initializing a set\n",
    "#There are two ways to create sets: using curly braces {} and the built-in function set()\n",
    "s = {1, 2, 3}\n",
    "s = set([1, 2, 3])\n",
    "# When creating an empty set, be sure to not use the curly braces {} or you will get an empty dictionary instead.\n",
    "\n",
    "s = {}\n",
    "type(s)\n",
    "#<class 'dict'>\n",
    "\n",
    "#sets: unordered collections of unique elements\n",
    "#A set automatically remove all the duplicate values.\n",
    "s = {1, 2, 3, 2, 3, 4}\n",
    "s\n",
    "#{1, 2, 3, 4}\n",
    "\n",
    "# And as an unordered data type, they can't be indexed.\n",
    "s = {1, 2, 3}\n",
    "#s[0]\n",
    "#Traceback (most recent call last):\n",
    "#  File \"<stdin>\", line 1, in <module>\n",
    "#TypeError: 'set' object does not support indexing\n",
    "\n",
    "\n",
    "#set add() and update()\n",
    "#Using the add() method we can add a single element to the set.\n",
    "\n",
    "s = {1, 2, 3}\n",
    "s.add(4)\n",
    "s\n",
    "#{1, 2, 3, 4}\n",
    "\n",
    "#And with update(), multiple ones .\n",
    "s = {1, 2, 3}\n",
    "s.update([2, 3, 4, 5, 6])\n",
    "s\n",
    "#{1, 2, 3, 4, 5, 6}  # remember, sets automatically remove duplicates\n",
    "\n",
    "#set remove() and discard()\n",
    "#Both methods will remove an element from the set, but remove() will raise a key error if the value doesn't exist.\n",
    "s = {1, 2, 3}\n",
    "s.remove(3)\n",
    "s\n",
    "#{1, 2}\n",
    "#s.remove(3)\n",
    "#Traceback (most recent call last):\n",
    "#  File \"<stdin>\", line 1, in <module>\n",
    "#KeyError: 3\n",
    "\n",
    "#discard() won't raise any errors.\n",
    "s = {1, 2, 3}\n",
    "s.discard(3)\n",
    "s\n",
    "#{1, 2}\n",
    "s.discard(3)\n",
    "\n",
    "\n",
    "#set union()\n",
    "#union() or | will create a new set that contains all the elements from the sets provided.\n",
    "s1 = {1, 2, 3}\n",
    "s2 = {3, 4, 5}\n",
    "s1.union(s2)  # or 's1 | s2'\n",
    "#{1, 2, 3, 4, 5}\n",
    "\n",
    "#set intersection\n",
    "#intersection or & will return a set containing only the elements that are common to all of them.\n",
    "s1 = {1, 2, 3}\n",
    "s2 = {2, 3, 4}\n",
    "s3 = {3, 4, 5}\n",
    "s1.intersection(s2, s3)  # or 's1 & s2 & s3'\n",
    "#{3}\n",
    "\n",
    "#set difference\n",
    "#difference or - will return only the elements that are unique to the first set (invoked set).\n",
    "s1 = {1, 2, 3}\n",
    "s2 = {2, 3, 4}\n",
    "s1.difference(s2)  # or 's1 - s2'\n",
    "#{1}\n",
    "s2.difference(s1) # or 's2 - s1'\n",
    "#{4}\n",
    "\n",
    "#set symetric_difference\n",
    "#symetric_difference or ^ will return all the elements that are not common between them.\n",
    "s1 = {1, 2, 3}\n",
    "s2 = {2, 3, 4}\n",
    "s1.symmetric_difference(s2)  # or 's1 ^ s2'\n",
    "#{1, 4}\n"
   ]
  },
  {
   "cell_type": "markdown",
   "id": "4a35798d",
   "metadata": {},
   "source": [
    "# String Formatting"
   ]
  },
  {
   "cell_type": "code",
   "execution_count": 34,
   "id": "8555671b",
   "metadata": {},
   "outputs": [
    {
     "name": "stdout",
     "output_type": "stream",
     "text": [
      "Kylie's favorite number is 8, 8 is Kylie's favorite number\n",
      "\n",
      "\n",
      "I own 32.55% of the company\n",
      "\n",
      "\n",
      "The approximate population of India is 1,324,000,000\n"
     ]
    }
   ],
   "source": [
    "output = \"{0}'s favorite number is {1}, {1} is {0}'s favorite number\".format(\"Kylie\", 8)\n",
    "print(output)\n",
    "\n",
    "print('\\n')\n",
    "\n",
    "num = 32.554865\n",
    "print(\"I own {pct:.2f}% of the company\".format(pct=num))\n",
    "\n",
    "print('\\n')\n",
    "\n",
    "print(\"The approximate population of {0} is {1:,}\".format(\"India\",1324000000))"
   ]
  },
  {
   "cell_type": "markdown",
   "id": "94489516",
   "metadata": {},
   "source": [
    "# Format Specification\n",
    "[Python 3 Format Specification](https://docs.python.org/3/library/string.html#formatspec)"
   ]
  },
  {
   "cell_type": "markdown",
   "id": "0fc81649",
   "metadata": {},
   "source": [
    "# Markdown\n",
    "[Common Mark Specification](https://commonmark.org/help/)"
   ]
  },
  {
   "cell_type": "markdown",
   "id": "68b77d8b",
   "metadata": {},
   "source": [
    "# Python 3 Documentation \n",
    "\n",
    "[Python 3 Documentation](https://docs.python.org/3/)"
   ]
  },
  {
   "cell_type": "code",
   "execution_count": 7,
   "id": "5727523f",
   "metadata": {},
   "outputs": [
    {
     "name": "stdout",
     "output_type": "stream",
     "text": [
      "alicebob\n",
      "AliceAliceAliceAliceAlice\n",
      "What is your name?\n",
      "the list is not empty!\n",
      "1.1\n",
      "5\n",
      "1.0\n",
      "True\n",
      "true\n",
      "0 printed\n",
      "1 printed\n",
      "2 printed\n",
      "3 printed\n",
      "4 printed\n",
      "\n",
      "3 printed\n",
      "2 printed\n",
      "1 printed\n",
      "0 printed\n",
      "-1 printed\n"
     ]
    }
   ],
   "source": [
    "# Math Operators\n",
    "# 2 ** 3 = 8 (exponent)\n",
    "\n",
    "# 22 % 8 = 6 (moduululs)\n",
    "# 22 // 8 = 2\n",
    "\n",
    "# String concat\n",
    "print('alice' 'bob') #alicebob\n",
    "print('Alice' * 5) \n",
    "#AliceAliceAliceAliceAlice\n",
    "\n",
    "# Function DocString\n",
    "def foo():\n",
    "    \"\"\"\n",
    "    This is a function docstring\n",
    "    You can also use:\n",
    "    ''' Function Docstring '''\n",
    "    \"\"\"\n",
    "\n",
    "# input\n",
    "print('What is your name?')   # ask for their name\n",
    "#myName = input()\n",
    "#print('It is good to meet you, {}'.format(myName))\n",
    "    \n",
    "# Testing the emptiness\n",
    "# Test of emptiness of strings, lists, dictionary, etc,\n",
    "# should not use len, but prefer direct boolean evaluation.\n",
    "a = [1, 2, 3]\n",
    "if a:\n",
    "    print(\"the list is not empty!\")\n",
    "    \n",
    "    \n",
    "# Casting\n",
    "print(str(1.1))\n",
    "print(int(5.9))\n",
    "print(float(1))\n",
    "\n",
    "print(43 == 43.0)\n",
    "\n",
    "# Boolean Evaluation\n",
    "# Never use == or != operator to evaluate boolean operation. \n",
    "# Use the is or is not operators, or use implicit boolean evaluation.\n",
    "a = True\n",
    "if a or a is True or a is not False:\n",
    "    print('true')\n",
    "\n",
    "# if, else, elif\n",
    "# while, break, continue \n",
    "\n",
    "#range\n",
    "for i in range(5):\n",
    "    print('{} printed'.format(i))\n",
    "    \n",
    "print()\n",
    "for i in range(3, -2, -1):\n",
    "    print('{} printed'.format(i))\n"
   ]
  },
  {
   "cell_type": "code",
   "execution_count": 6,
   "id": "4e16b7da",
   "metadata": {},
   "outputs": [
    {
     "name": "stdout",
     "output_type": "stream",
     "text": [
      "1\n",
      "2\n",
      "3\n"
     ]
    }
   ],
   "source": [
    "# The else clause executes after the loop completes normally. \n",
    "# This means that the loop did not encounter a break statement. \n",
    "for i in [1, 2, 3, 4, 5]:\n",
    "    print(i)\n",
    "    if i == 3:\n",
    "        break\n",
    "else:\n",
    "    print(\"only executed when no item of the list is equal to 3\")"
   ]
  },
  {
   "cell_type": "markdown",
   "id": "cd80f43a",
   "metadata": {},
   "source": [
    "# From vs Import\n",
    "[From vs Import](https://stackoverflow.com/questions/9439480/from-import-vs-import)"
   ]
  },
  {
   "cell_type": "code",
   "execution_count": 8,
   "id": "cc042fe7",
   "metadata": {},
   "outputs": [
    {
     "name": "stdout",
     "output_type": "stream",
     "text": [
      "4\n",
      "10\n",
      "9\n",
      "10\n",
      "5\n"
     ]
    }
   ],
   "source": [
    "import random\n",
    "for i in range(5):\n",
    "    print(random.randint(1, 10))\n",
    "import random, sys, os, math\n",
    "from random import *\n"
   ]
  },
  {
   "cell_type": "markdown",
   "id": "0480f0c7",
   "metadata": {},
   "source": [
    "# The none value"
   ]
  },
  {
   "cell_type": "code",
   "execution_count": 10,
   "id": "5abfdadd",
   "metadata": {},
   "outputs": [
    {
     "name": "stdout",
     "output_type": "stream",
     "text": [
      "Hello!\n"
     ]
    },
    {
     "data": {
      "text/plain": [
       "True"
      ]
     },
     "execution_count": 10,
     "metadata": {},
     "output_type": "execute_result"
    }
   ],
   "source": [
    "# Note: never compare to None with the == operator. Always use is.\n",
    "spam = print('Hello!')\n",
    "spam is None\n"
   ]
  },
  {
   "cell_type": "markdown",
   "id": "ecb5dac9",
   "metadata": {},
   "source": [
    "# Keyword Arguments and Print"
   ]
  },
  {
   "cell_type": "code",
   "execution_count": 11,
   "id": "c41252c7",
   "metadata": {},
   "outputs": [
    {
     "name": "stdout",
     "output_type": "stream",
     "text": [
      "HelloWorld\n",
      "cats dogs mice\n",
      "cats,dogs,mice\n"
     ]
    }
   ],
   "source": [
    "print('Hello', end='')\n",
    "print('World')\n",
    "\n",
    "print('cats', 'dogs', 'mice')\n",
    "\n",
    "print('cats', 'dogs', 'mice', sep=',')"
   ]
  },
  {
   "cell_type": "markdown",
   "id": "3dd78aa5",
   "metadata": {},
   "source": [
    "# Local and Global Scope\n",
    "* Code in the global scope cannot use any local variables.\n",
    "* However, a local scope can access global variables.\n",
    "* Code in a function’s local scope cannot use variables in any other local scope.\n",
    "* You can use the same name for different variables if they are in different scopes. That is, there can be a local variable named spam and a global variable also named spam.\n",
    "\n",
    "## The global Statement\n",
    "If you need to modify a global variable from within a function, use the global statement:"
   ]
  },
  {
   "cell_type": "code",
   "execution_count": 12,
   "id": "d9166029",
   "metadata": {},
   "outputs": [
    {
     "name": "stdout",
     "output_type": "stream",
     "text": [
      "spam\n"
     ]
    }
   ],
   "source": [
    "def spam():\n",
    "    global eggs\n",
    "    eggs = 'spam'\n",
    "\n",
    "eggs = 'global'\n",
    "spam()\n",
    "print(eggs)"
   ]
  },
  {
   "cell_type": "markdown",
   "id": "f310dd57",
   "metadata": {},
   "source": [
    "There are four rules to tell whether a variable is in a local scope or global scope:\n",
    "1. If a variable is being used in the global scope (that is, outside of all functions), then it is always a global variable.\n",
    "2. If there is a global statement for that variable in a function, it is a global variable.\n",
    "3. Otherwise, if the variable is used in an assignment statement in the function, it is a local variable.\n",
    "4. But if the variable is not used in an assignment statement, it is a global variable."
   ]
  },
  {
   "cell_type": "markdown",
   "id": "dea728e3",
   "metadata": {},
   "source": [
    "## Exception Handling\n",
    "# Basic exception handling"
   ]
  },
  {
   "cell_type": "code",
   "execution_count": 2,
   "id": "974cea88",
   "metadata": {},
   "outputs": [
    {
     "name": "stdout",
     "output_type": "stream",
     "text": [
      "-- division finished --\n",
      "21.0\n",
      "-- division finished --\n",
      "3.5\n",
      "Error: Invalid argument: division by zero\n",
      "-- division finished --\n",
      "None\n",
      "-- division finished --\n",
      "42.0\n"
     ]
    }
   ],
   "source": [
    "def spam(divideBy):\n",
    "    try:\n",
    "        return 42 / divideBy\n",
    "    except ZeroDivisionError as e:\n",
    "        print('Error: Invalid argument: {}'.format(e))\n",
    "    finally: \n",
    "        print(\"-- division finished --\")\n",
    "\n",
    "print(spam(2))\n",
    "print(spam(12))\n",
    "print(spam(0))\n",
    "print(spam(1))"
   ]
  },
  {
   "cell_type": "markdown",
   "id": "87608a18",
   "metadata": {},
   "source": [
    "## itertools Module\n",
    "\n",
    "The itertools module is a collection of tools intended to be fast and use memory efficiently when handling iterators (like lists or dictionaries).\n",
    "\n",
    "From the official Python 3.x documentation:\n",
    "\n",
    "The module standardizes a core set of fast, memory efficient tools that are useful by themselves or in combination. Together, they form an “iterator algebra” making it possible to construct specialized tools succinctly and efficiently in pure Python.\n",
    "\n",
    "The itertools module comes in the standard library and must be imported.\n",
    "\n",
    "The operator module will also be used. This module is not necessary when using itertools, but needed for some of the examples below."
   ]
  },
  {
   "cell_type": "code",
   "execution_count": 28,
   "id": "fd88b51c",
   "metadata": {},
   "outputs": [],
   "source": [
    "import itertools\n",
    "import operator"
   ]
  },
  {
   "cell_type": "markdown",
   "id": "13e70ace",
   "metadata": {},
   "source": [
    "## accumulate()"
   ]
  },
  {
   "cell_type": "code",
   "execution_count": 29,
   "id": "f7a604c7",
   "metadata": {},
   "outputs": [
    {
     "name": "stdout",
     "output_type": "stream",
     "text": [
      "1\n",
      "2\n",
      "6\n",
      "24\n",
      "120\n",
      "5\n",
      "7\n",
      "13\n",
      "17\n",
      "22\n",
      "31\n",
      "32\n"
     ]
    }
   ],
   "source": [
    "# Makes an iterator that returns the results of a function.\n",
    "\n",
    "# itertools.accumulate(iterable[, func])\n",
    "# Example:\n",
    "\n",
    "data = [1, 2, 3, 4, 5]\n",
    "result = itertools.accumulate(data, operator.mul)\n",
    "for each in result:\n",
    "   print(each)\n",
    "# 1\n",
    "# 2\n",
    "# 6\n",
    "# 24\n",
    "# 120\n",
    "\n",
    "# The operator.mul takes two numbers and multiplies them:\n",
    "operator.mul(1, 2)\n",
    "# 2\n",
    "operator.mul(2, 3)\n",
    "# 6\n",
    "operator.mul(6, 4)\n",
    "# 24\n",
    "operator.mul(24, 5)\n",
    "# 120\n",
    "\n",
    "#Passing a function is optional:\n",
    "data = [5, 2, 6, 4, 5, 9, 1]\n",
    "result = itertools.accumulate(data)\n",
    "for each in result:\n",
    "   print(each)\n",
    "# 5\n",
    "# 7\n",
    "# 13\n",
    "# 17\n",
    "# 22\n",
    "# 31\n",
    "# 32\n",
    "\n",
    "# If no function is designated the items will be summed:"
   ]
  },
  {
   "cell_type": "markdown",
   "id": "5256fc1f",
   "metadata": {},
   "source": [
    "# combinations()"
   ]
  },
  {
   "cell_type": "code",
   "execution_count": 30,
   "id": "8db477d7",
   "metadata": {},
   "outputs": [
    {
     "name": "stdout",
     "output_type": "stream",
     "text": [
      "('circle', 'triangle')\n",
      "('circle', 'square')\n",
      "('triangle', 'square')\n",
      "('circle', 'circle')\n",
      "('circle', 'triangle')\n",
      "('circle', 'square')\n",
      "('triangle', 'triangle')\n",
      "('triangle', 'square')\n",
      "('square', 'square')\n"
     ]
    },
    {
     "data": {
      "text/plain": [
       "('square', 'square')"
      ]
     },
     "execution_count": 30,
     "metadata": {},
     "output_type": "execute_result"
    }
   ],
   "source": [
    "# Takes an iterable and a integer. This will create all the unique combination that have r members.\n",
    "\n",
    "# itertools.combinations(iterable, r)\n",
    "# Example:\n",
    "\n",
    "shapes = ['circle', 'triangle', 'square',]\n",
    "result = itertools.combinations(shapes, 2)\n",
    "for each in result:\n",
    "   print(each)\n",
    "# ('circle', 'triangle')\n",
    "# ('circle', 'square')\n",
    "# ('triangle', 'square')\n",
    "\n",
    "\n",
    "# combinations_with_replacement()\n",
    "# Just like combinations(), but allows individual elements to be repeated more than once.\n",
    "\n",
    "# itertools.combinations_with_replacement(iterable, r)\n",
    "# Example:\n",
    "\n",
    "shapes = ['circle', 'triangle', 'square']\n",
    "result = itertools.combinations_with_replacement(shapes, 2)\n",
    "for each in result:\n",
    "   print(each)\n",
    "('circle', 'circle')\n",
    "('circle', 'triangle')\n",
    "('circle', 'square')\n",
    "('triangle', 'triangle')\n",
    "('triangle', 'square')\n",
    "('square', 'square')"
   ]
  },
  {
   "cell_type": "markdown",
   "id": "97b10dd1",
   "metadata": {},
   "source": [
    "# count()"
   ]
  },
  {
   "cell_type": "code",
   "execution_count": 31,
   "id": "a3dcdfaa",
   "metadata": {},
   "outputs": [
    {
     "name": "stdout",
     "output_type": "stream",
     "text": [
      "10\n",
      "13\n",
      "16\n",
      "19\n",
      "22\n"
     ]
    }
   ],
   "source": [
    "# Makes an iterator that returns evenly spaced values starting with number start.\n",
    "\n",
    "# itertools.count(start=0, step=1)\n",
    "# Example:\n",
    "\n",
    "for i in itertools.count(10,3):\n",
    "   print(i)\n",
    "   if i > 20:\n",
    "       break\n",
    "# 10\n",
    "# 13\n",
    "# 16\n",
    "# 19\n",
    "# 22"
   ]
  },
  {
   "cell_type": "markdown",
   "id": "0bf34df8",
   "metadata": {},
   "source": [
    "# cycle()"
   ]
  },
  {
   "cell_type": "code",
   "execution_count": 34,
   "id": "69d0f895",
   "metadata": {},
   "outputs": [
    {
     "name": "stdout",
     "output_type": "stream",
     "text": [
      "red\n",
      "orange\n",
      "yellow\n",
      "green\n",
      "blue\n",
      "violet\n",
      "red\n"
     ]
    },
    {
     "data": {
      "text/plain": [
       "Ellipsis"
      ]
     },
     "execution_count": 34,
     "metadata": {},
     "output_type": "execute_result"
    }
   ],
   "source": [
    "# This function cycles through an iterator endlessly.\n",
    "\n",
    "# itertools.cycle(iterable)\n",
    "# Example:\n",
    "count = 1\n",
    "colors = ['red', 'orange', 'yellow', 'green', 'blue', 'violet']\n",
    "for color in itertools.cycle(colors):\n",
    "   print(color)\n",
    "   count += 1\n",
    "   if count > 7:\n",
    "    break\n",
    "# red\n",
    "# orange\n",
    "# yellow\n",
    "# green\n",
    "# blue\n",
    "# violet\n",
    "# red\n",
    "# orange\n",
    "...\n",
    "# When reached the end of the iterable it start over again from the beginning."
   ]
  },
  {
   "cell_type": "markdown",
   "id": "cc9901c7",
   "metadata": {},
   "source": [
    "## compress()"
   ]
  },
  {
   "cell_type": "code",
   "execution_count": 35,
   "id": "16e49cd4",
   "metadata": {},
   "outputs": [
    {
     "name": "stdout",
     "output_type": "stream",
     "text": [
      "circle\n",
      "square\n"
     ]
    }
   ],
   "source": [
    "# Filters one iterable with another.\n",
    "\n",
    "# itertools.compress(data, selectors)\n",
    "# Example:\n",
    "\n",
    "shapes = ['circle', 'triangle', 'square', 'pentagon']\n",
    "selections = [True, False, True, False]\n",
    "result = itertools.compress(shapes, selections)\n",
    "for each in result:\n",
    "   print(each)\n",
    "# circle\n",
    "# square"
   ]
  },
  {
   "cell_type": "markdown",
   "id": "903c36d4",
   "metadata": {},
   "source": [
    "## dropwhile()"
   ]
  },
  {
   "cell_type": "code",
   "execution_count": 37,
   "id": "4806371d",
   "metadata": {},
   "outputs": [
    {
     "name": "stdout",
     "output_type": "stream",
     "text": [
      "5\n",
      "6\n",
      "7\n",
      "8\n",
      "9\n",
      "10\n",
      "1\n"
     ]
    }
   ],
   "source": [
    "# Make an iterator that drops elements from the iterable as long \n",
    "# as the predicate is true;\n",
    "# IMPORTANT: afterwards, returns every element.\n",
    "\n",
    "# itertools.dropwhile(predicate, iterable)\n",
    "# Example:\n",
    "\n",
    "data = [1, 2, 3, 4, 5, 6, 7, 8, 9, 10, 1]\n",
    "result = itertools.dropwhile(lambda x: x<5, data)\n",
    "for each in result:\n",
    "   print(each)\n",
    "#5\n",
    "#6\n",
    "#7\n",
    "#8\n",
    "#9\n",
    "#10\n",
    "#1"
   ]
  },
  {
   "cell_type": "markdown",
   "id": "53cdb368",
   "metadata": {},
   "source": [
    "## filterfalse()"
   ]
  },
  {
   "cell_type": "code",
   "execution_count": 40,
   "id": "ecd9ffd7",
   "metadata": {},
   "outputs": [
    {
     "name": "stdout",
     "output_type": "stream",
     "text": [
      "5\n",
      "6\n",
      "7\n",
      "8\n",
      "9\n",
      "10\n"
     ]
    }
   ],
   "source": [
    "# Makes an iterator that filters elements from iterable returning\n",
    "# only those for which the predicate is False.\n",
    "\n",
    "# itertools.filterfalse(predicate, iterable)\n",
    "# Example:\n",
    "\n",
    "data = [1, 2, 3, 4, 5, 6, 7, 8, 9, 10, 1]\n",
    "result = itertools.filterfalse(lambda x: x<5, data)\n",
    "for each in result:\n",
    "   print(each)\n",
    "# 5\n",
    "# 6\n",
    "# 7\n",
    "# 8\n",
    "# 9\n",
    "# 10"
   ]
  },
  {
   "cell_type": "markdown",
   "id": "f6d692da",
   "metadata": {},
   "source": [
    "## groupby()\n",
    "[https://docs.python.org/3/library/itertools.html#itertools.groupby](https://docs.python.org/3/library/itertools.html#itertools.groupby)"
   ]
  },
  {
   "cell_type": "code",
   "execution_count": 42,
   "id": "87754da2",
   "metadata": {},
   "outputs": [
    {
     "name": "stdout",
     "output_type": "stream",
     "text": [
      "autobot\n",
      "[{'name': 'blaster', 'faction': 'autobot'}]\n",
      "decepticon\n",
      "[{'name': 'galvatron', 'faction': 'decepticon'}]\n",
      "autobot\n",
      "[{'name': 'jazz', 'faction': 'autobot'}, {'name': 'metroplex', 'faction': 'autobot'}]\n",
      "decepticon\n",
      "[{'name': 'megatron', 'faction': 'decepticon'}, {'name': 'starcream', 'faction': 'decepticon'}]\n"
     ]
    }
   ],
   "source": [
    "# Simply put, this function groups things together.\n",
    "\n",
    "# itertools.groupby(iterable, key=None)\n",
    "# Example:\n",
    "\n",
    "robots = [{\n",
    "    'name': 'blaster',\n",
    "    'faction': 'autobot'\n",
    "}, {\n",
    "    'name': 'galvatron',\n",
    "    'faction': 'decepticon'\n",
    "}, {\n",
    "    'name': 'jazz',\n",
    "    'faction': 'autobot'\n",
    "}, {\n",
    "    'name': 'metroplex',\n",
    "    'faction': 'autobot'\n",
    "}, {\n",
    "    'name': 'megatron',\n",
    "    'faction': 'decepticon'\n",
    "}, {\n",
    "    'name': 'starcream',\n",
    "    'faction': 'decepticon'\n",
    "}]\n",
    "\n",
    "for key, group in itertools.groupby(robots, key=lambda x: x['faction']):\n",
    "   print(key)\n",
    "   print(list(group))\n",
    "# autobot\n",
    "# [{'name': 'blaster', 'faction': 'autobot'}]\n",
    "# decepticon\n",
    "# [{'name': 'galvatron', 'faction': 'decepticon'}]\n",
    "# autobot\n",
    "# [{'name': 'jazz', 'faction': 'autobot'}, {'name': 'metroplex', 'faction': 'autobot'}]\n",
    "# decepticon\n",
    "# [{'name': 'megatron', 'faction': 'decepticon'}, {'name': 'starcream', 'faction': 'decepticon'}]"
   ]
  },
  {
   "cell_type": "markdown",
   "id": "b7e7ee53",
   "metadata": {},
   "source": [
    "## islice()"
   ]
  },
  {
   "cell_type": "code",
   "execution_count": 44,
   "id": "c194221d",
   "metadata": {},
   "outputs": [
    {
     "name": "stdout",
     "output_type": "stream",
     "text": [
      "red\n",
      "orange\n"
     ]
    }
   ],
   "source": [
    "# This function is very much like slices. This allows you to cut out a piece of an iterable.\n",
    "\n",
    "# itertools.islice(iterable, start, stop[, step])\n",
    "# Example:\n",
    "\n",
    "colors = ['red', 'orange', 'yellow', 'green', 'blue',]\n",
    "few_colors = itertools.islice(colors, 2)\n",
    "for each in few_colors:\n",
    "   print(each)\n",
    "# red\n",
    "# orange"
   ]
  },
  {
   "cell_type": "markdown",
   "id": "cdf8283e",
   "metadata": {},
   "source": [
    "## permutations()"
   ]
  },
  {
   "cell_type": "code",
   "execution_count": 45,
   "id": "42b986da",
   "metadata": {},
   "outputs": [
    {
     "name": "stdout",
     "output_type": "stream",
     "text": [
      "('a', 'b', 'c')\n",
      "('a', 'c', 'b')\n",
      "('b', 'a', 'c')\n",
      "('b', 'c', 'a')\n",
      "('c', 'a', 'b')\n",
      "('c', 'b', 'a')\n"
     ]
    }
   ],
   "source": [
    "# itertools.permutations(iterable, r=None)\n",
    "# Example:\n",
    "\n",
    "alpha_data = ['a', 'b', 'c']\n",
    "result = itertools.permutations(alpha_data)\n",
    "for each in result:\n",
    "   print(each)\n",
    "# ('a', 'b', 'c')\n",
    "# ('a', 'c', 'b')\n",
    "# ('b', 'a', 'c')\n",
    "# ('b', 'c', 'a')\n",
    "# ('c', 'a', 'b')\n",
    "# ('c', 'b', 'a')"
   ]
  },
  {
   "cell_type": "markdown",
   "id": "a482b735",
   "metadata": {},
   "source": [
    "## product()"
   ]
  },
  {
   "cell_type": "code",
   "execution_count": 46,
   "id": "bd1c7f0e",
   "metadata": {},
   "outputs": [
    {
     "name": "stdout",
     "output_type": "stream",
     "text": [
      "(1, 'a')\n",
      "(1, 'b')\n",
      "(1, 'c')\n",
      "(2, 'a')\n",
      "(2, 'b')\n",
      "(2, 'c')\n",
      "(3, 'a')\n",
      "(3, 'b')\n",
      "(3, 'c')\n"
     ]
    }
   ],
   "source": [
    "# Creates the cartesian products from a series of iterables.\n",
    "\n",
    "num_data = [1, 2, 3]\n",
    "alpha_data = ['a', 'b', 'c']\n",
    "result = itertools.product(num_data, alpha_data)\n",
    "for each in result:\n",
    "    print(each)\n",
    "# (1, 'a')\n",
    "# (1, 'b')\n",
    "# (1, 'c')\n",
    "# (2, 'a')\n",
    "# (2, 'b')\n",
    "# (2, 'c')\n",
    "# (3, 'a')\n",
    "# (3, 'b')\n",
    "# (3, 'c')"
   ]
  },
  {
   "cell_type": "markdown",
   "id": "ec495828",
   "metadata": {},
   "source": [
    "## repeat()"
   ]
  },
  {
   "cell_type": "code",
   "execution_count": 48,
   "id": "43b961b4",
   "metadata": {},
   "outputs": [
    {
     "name": "stdout",
     "output_type": "stream",
     "text": [
      "spam\n",
      "spam\n",
      "spam\n"
     ]
    }
   ],
   "source": [
    "# This function will repeat an object over and over again. Unless, there is a times argument.\n",
    "\n",
    "# itertools.repeat(object[, times])\n",
    "# Example:\n",
    "\n",
    "for i in itertools.repeat(\"spam\", 3):\n",
    "    print(i)\n",
    "# spam\n",
    "# spam\n",
    "# spam"
   ]
  },
  {
   "cell_type": "markdown",
   "id": "912c4ff6",
   "metadata": {},
   "source": [
    "## starmap()"
   ]
  },
  {
   "cell_type": "code",
   "execution_count": 50,
   "id": "0d659f7a",
   "metadata": {},
   "outputs": [
    {
     "name": "stdout",
     "output_type": "stream",
     "text": [
      "12\n",
      "32\n",
      "21\n"
     ]
    }
   ],
   "source": [
    "# Makes an iterator that computes the function using arguments obtained from the iterable.\n",
    "\n",
    "# itertools.starmap(function, iterable)\n",
    "# Example:\n",
    "\n",
    "data = [(2, 6), (8, 4), (7, 3)]\n",
    "result = itertools.starmap(operator.mul, data)\n",
    "for each in result:\n",
    "  print(each)\n",
    "# 12\n",
    "# 32\n",
    "# 21"
   ]
  },
  {
   "cell_type": "markdown",
   "id": "1f5cb145",
   "metadata": {},
   "source": [
    "## takewhile()"
   ]
  },
  {
   "cell_type": "code",
   "execution_count": 51,
   "id": "08bf96cd",
   "metadata": {},
   "outputs": [
    {
     "name": "stdout",
     "output_type": "stream",
     "text": [
      "1\n",
      "2\n",
      "3\n",
      "4\n"
     ]
    }
   ],
   "source": [
    "# The opposite of dropwhile(). Makes an iterator and returns elements \n",
    "# from the iterable as long as the predicate is true.\n",
    "\n",
    "# itertools.takewhile(predicate, iterable)\n",
    "# Example:\n",
    "\n",
    "data = [1, 2, 3, 4, 5, 6, 7, 8, 9, 10, 1]\n",
    "result = itertools.takewhile(lambda x: x<5, data)\n",
    "for each in result:\n",
    "   print(each)\n",
    "# 1\n",
    "# 2\n",
    "# 3\n",
    "# 4"
   ]
  },
  {
   "cell_type": "markdown",
   "id": "24dd013a",
   "metadata": {},
   "source": [
    "## tee()"
   ]
  },
  {
   "cell_type": "code",
   "execution_count": 52,
   "id": "bd7b4dd8",
   "metadata": {},
   "outputs": [
    {
     "name": "stdout",
     "output_type": "stream",
     "text": [
      "red\n",
      "orange\n",
      "yellow\n",
      "green\n",
      "blue\n",
      "red\n",
      "orange\n",
      "yellow\n",
      "green\n",
      "blue\n"
     ]
    }
   ],
   "source": [
    "# Return n independent iterators from a single iterable.\n",
    "\n",
    "# itertools.tee(iterable, n=2)\n",
    "# Example:\n",
    "\n",
    "colors = ['red', 'orange', 'yellow', 'green', 'blue']\n",
    "alpha_colors, beta_colors = itertools.tee(colors)\n",
    "for each in alpha_colors:\n",
    "   print(each)\n",
    "# red\n",
    "# orange\n",
    "# yellow\n",
    "# green\n",
    "# blue\n",
    "colors = ['red', 'orange', 'yellow', 'green', 'blue']\n",
    "alpha_colors, beta_colors = itertools.tee(colors)\n",
    "for each in beta_colors:\n",
    "   print(each)\n",
    "# red\n",
    "# orange\n",
    "# yellow\n",
    "# green\n",
    "# blue"
   ]
  },
  {
   "cell_type": "markdown",
   "id": "e81b0b19",
   "metadata": {},
   "source": [
    "## zip_longest()"
   ]
  },
  {
   "cell_type": "code",
   "execution_count": 53,
   "id": "c10559a0",
   "metadata": {},
   "outputs": [
    {
     "name": "stdout",
     "output_type": "stream",
     "text": [
      "('red', 1)\n",
      "('orange', 2)\n",
      "('yellow', 3)\n",
      "('green', 4)\n",
      "('blue', 5)\n",
      "(None, 6)\n",
      "(None, 7)\n",
      "(None, 8)\n",
      "(None, 9)\n",
      "(None, 10)\n"
     ]
    }
   ],
   "source": [
    "# Makes an iterator that aggregates elements from each of the iterables. If the iterables are of uneven length, missing values are filled-in with fillvalue. Iteration continues until the longest iterable is exhausted.\n",
    "\n",
    "# itertools.zip_longest(*iterables, fillvalue=None)\n",
    "# Example:\n",
    "\n",
    "colors = ['red', 'orange', 'yellow', 'green', 'blue',]\n",
    "data = [1, 2, 3, 4, 5, 6, 7, 8, 9, 10,]\n",
    "for each in itertools.zip_longest(colors, data, fillvalue=None):\n",
    "   print(each)\n",
    "# ('red', 1)\n",
    "# ('orange', 2)\n",
    "# ('yellow', 3)\n",
    "# ('green', 4)\n",
    "# ('blue', 5)\n",
    "# (None, 6)\n",
    "# (None, 7)\n",
    "# (None, 8)\n",
    "# (None, 9)\n",
    "# (None, 10)"
   ]
  },
  {
   "cell_type": "markdown",
   "id": "9a7a88e7",
   "metadata": {},
   "source": [
    "# Comprehensions"
   ]
  },
  {
   "cell_type": "code",
   "execution_count": 54,
   "id": "ddbc3bce",
   "metadata": {},
   "outputs": [
    {
     "data": {
      "text/plain": [
       "['NAME:POOKA', 'FIRST_NAME:OOOKA']"
      ]
     },
     "execution_count": 54,
     "metadata": {},
     "output_type": "execute_result"
    }
   ],
   "source": [
    "# List comprehension\n",
    "a = [1, 3, 5, 7, 9, 11]\n",
    "[i - 1 for i in a]\n",
    "# [0, 2, 4, 6, 8, 10]\n",
    "\n",
    "\n",
    "# Set comprehension\n",
    "b = {\"abc\", \"def\"}\n",
    "{s.upper() for s in b}\n",
    "# {\"ABC\", \"DEF\"}\n",
    "\n",
    "\n",
    "# Dict comprehension\n",
    "c = {'name': 'Pooka', 'age': 5}\n",
    "{v: k for k, v in c.items()}\n",
    "#{'Pooka': 'name', 5: 'age'}\n",
    "\n",
    "#A List comprehension can be generated from a dictionary:\n",
    "\n",
    "c = {'name': 'Pooka', 'first_name': 'Oooka'}\n",
    "[\"{}:{}\".format(k.upper(), v.upper()) for k, v in c.items()]\n",
    "['NAME:POOKA', 'FIRST_NAME:OOOKA']"
   ]
  }
 ],
 "metadata": {
  "kernelspec": {
   "display_name": "Python 3 (ipykernel)",
   "language": "python",
   "name": "python3"
  },
  "language_info": {
   "codemirror_mode": {
    "name": "ipython",
    "version": 3
   },
   "file_extension": ".py",
   "mimetype": "text/x-python",
   "name": "python",
   "nbconvert_exporter": "python",
   "pygments_lexer": "ipython3",
   "version": "3.10.2"
  }
 },
 "nbformat": 4,
 "nbformat_minor": 5
}
