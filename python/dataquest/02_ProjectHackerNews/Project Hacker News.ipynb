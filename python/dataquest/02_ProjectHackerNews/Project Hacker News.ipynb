{
 "cells": [
  {
   "cell_type": "markdown",
   "id": "fd0db849",
   "metadata": {},
   "source": [
    "# Exploring Hackers News Posts\n",
    "\n",
    "In this project, we'll compare two different types of posts from Hacker News, a popular site where technology related stories (or 'posts') are voted and commented upon. The two types of posts we'll explore begin with either Ask HN or Show HN.\n",
    "\n",
    "Users submit Ask HN posts to ask the Hacker News community a specific question, such as \"What is the best online course you've ever taken?\" Likewise, users submit Show HN posts to show the Hacker News community a project, product, or just generally something interesting.\n",
    "\n",
    "We'll specifically compare these two types of posts to determine the following:\n",
    "\n",
    "* Do Ask HN or Show HN receive more comments on average?\n",
    "* Do posts created at a certain time receive more comments on average?\n",
    "\n",
    "It should be noted that the data set we're working with was reduced from almost 300,000 rows to approximately 20,000 rows by removing all submissions that did not receive any comments, and then randomly sampling from the remaining submissions."
   ]
  },
  {
   "cell_type": "markdown",
   "id": "980677b0",
   "metadata": {},
   "source": [
    "# Solution\n",
    "    \n",
    "[https://github.com/dataquestio/solutions/blob/master/Mission356Solutions.ipynb](https://github.com/dataquestio/solutions/blob/master/Mission356Solutions.ipynb)"
   ]
  },
  {
   "cell_type": "code",
   "execution_count": 13,
   "id": "38051ad8",
   "metadata": {},
   "outputs": [
    {
     "name": "stdout",
     "output_type": "stream",
     "text": [
      "{'id': 0, 'title': 1, 'url': 2, 'num_points': 3, 'num_comments': 4, 'author': 5, 'created_at': 6}\n"
     ]
    }
   ],
   "source": [
    "Solution:\n",
    "    \n",
    "(https://github.com/dataquestio/solutions/blob/master/Mission356Solutions.ipynb)[https://github.com/dataquestio/solutions/blob/master/Mission356Solutions.ipynb]\n",
    "\n",
    "import pandas\n",
    "# id: the unique identifier from Hacker News for the post\n",
    "# title: the title of the post\n",
    "# url: the URL that the posts links to, if the post has a URL\n",
    "# num_points: the number of points the post acquired, calculated as the total number of upvotes minus the total number of downvotes\n",
    "# num_comments: the number of comments on the post\n",
    "# author: the username of the person who submitted the post\n",
    "# created_at: the date and time of the post's submission\n",
    "\n",
    "ids = [\"id\",\"title\",\"url\",\"num_points\",\"num_comments\",\"author\",\"created_at\"]\n",
    "headers = dict([(id, ids.index(id)) for id in ids])\n",
    "print(headers)\n"
   ]
  },
  {
   "cell_type": "markdown",
   "id": "fe17a050",
   "metadata": {},
   "source": [
    "We'll compare these two types of posts to determine the following:\n",
    "\n",
    "Do Ask HN or Show HN receive more comments on average?\n",
    "Do posts created at a certain time receive more comments on average?\n",
    "Let's start by importing the libraries we need and reading the dataset into a list of lists."
   ]
  },
  {
   "cell_type": "markdown",
   "id": "e1206e65",
   "metadata": {},
   "source": [
    "# Introduction\n",
    "\n",
    "Lets:\n",
    "* Read the data\n",
    "* Remove the headers\n",
    "* Print header and first three rows\n",
    "* Convert do dataframe"
   ]
  },
  {
   "cell_type": "code",
   "execution_count": 77,
   "id": "f57bbebe",
   "metadata": {
    "scrolled": true
   },
   "outputs": [
    {
     "data": {
      "text/html": [
       "<div>\n",
       "<style scoped>\n",
       "    .dataframe tbody tr th:only-of-type {\n",
       "        vertical-align: middle;\n",
       "    }\n",
       "\n",
       "    .dataframe tbody tr th {\n",
       "        vertical-align: top;\n",
       "    }\n",
       "\n",
       "    .dataframe thead th {\n",
       "        text-align: right;\n",
       "    }\n",
       "</style>\n",
       "<table border=\"1\" class=\"dataframe\">\n",
       "  <thead>\n",
       "    <tr style=\"text-align: right;\">\n",
       "      <th></th>\n",
       "      <th>id</th>\n",
       "      <th>title</th>\n",
       "      <th>url</th>\n",
       "      <th>num_points</th>\n",
       "      <th>num_comments</th>\n",
       "      <th>author</th>\n",
       "      <th>created_at</th>\n",
       "    </tr>\n",
       "  </thead>\n",
       "  <tbody>\n",
       "    <tr>\n",
       "      <th>0</th>\n",
       "      <td>12224879</td>\n",
       "      <td>Interactive Dynamic Video</td>\n",
       "      <td>http://www.interactivedynamicvideo.com/</td>\n",
       "      <td>386</td>\n",
       "      <td>52</td>\n",
       "      <td>ne0phyte</td>\n",
       "      <td>8/4/2016 11:52</td>\n",
       "    </tr>\n",
       "    <tr>\n",
       "      <th>1</th>\n",
       "      <td>10975351</td>\n",
       "      <td>How to Use Open Source and Shut the Fuck Up at...</td>\n",
       "      <td>http://hueniverse.com/2016/01/26/how-to-use-op...</td>\n",
       "      <td>39</td>\n",
       "      <td>10</td>\n",
       "      <td>josep2</td>\n",
       "      <td>1/26/2016 19:30</td>\n",
       "    </tr>\n",
       "    <tr>\n",
       "      <th>2</th>\n",
       "      <td>11964716</td>\n",
       "      <td>Florida DJs May Face Felony for April Fools' W...</td>\n",
       "      <td>http://www.thewire.com/entertainment/2013/04/f...</td>\n",
       "      <td>2</td>\n",
       "      <td>1</td>\n",
       "      <td>vezycash</td>\n",
       "      <td>6/23/2016 22:20</td>\n",
       "    </tr>\n",
       "  </tbody>\n",
       "</table>\n",
       "</div>"
      ],
      "text/plain": [
       "         id                                              title  \\\n",
       "0  12224879                          Interactive Dynamic Video   \n",
       "1  10975351  How to Use Open Source and Shut the Fuck Up at...   \n",
       "2  11964716  Florida DJs May Face Felony for April Fools' W...   \n",
       "\n",
       "                                                 url  num_points  \\\n",
       "0            http://www.interactivedynamicvideo.com/         386   \n",
       "1  http://hueniverse.com/2016/01/26/how-to-use-op...          39   \n",
       "2  http://www.thewire.com/entertainment/2013/04/f...           2   \n",
       "\n",
       "   num_comments    author       created_at  \n",
       "0            52  ne0phyte   8/4/2016 11:52  \n",
       "1            10    josep2  1/26/2016 19:30  \n",
       "2             1  vezycash  6/23/2016 22:20  "
      ]
     },
     "metadata": {},
     "output_type": "display_data"
    },
    {
     "data": {
      "text/plain": [
       "20100"
      ]
     },
     "execution_count": 77,
     "metadata": {},
     "output_type": "execute_result"
    }
   ],
   "source": [
    "# Read in the data.\n",
    "import csv\n",
    "import pandas as pd\n",
    "\n",
    "f = open('hacker_news.csv')\n",
    "hn = list(csv.reader(f))\n",
    "hn[:3]\n",
    "\n",
    "df = pd.read_csv('hacker_news.csv')\n",
    "display(df.iloc[:3])\n",
    "\n",
    "len(df.index)\n",
    "\n",
    "# headers = hn[0]\n",
    "# hn = hn[1:]\n",
    "\n",
    "# print(headers)\n",
    "# print(hn[:3])\n",
    "\n",
    "# df = pd.DataFrame(hn)"
   ]
  },
  {
   "cell_type": "code",
   "execution_count": 79,
   "id": "078ecebf",
   "metadata": {},
   "outputs": [
    {
     "name": "stdout",
     "output_type": "stream",
     "text": [
      "1744\n",
      "1162\n",
      "17195\n"
     ]
    }
   ],
   "source": [
    "# Identify posts that begin with either `Ask HN` or `Show HN` and separate the data into different lists.\n",
    "ask_posts = []\n",
    "show_posts =[]\n",
    "other_posts = []\n",
    "\n",
    "for post in hn:\n",
    "    title = post[1]\n",
    "    if title.lower().startswith(\"ask hn\"):\n",
    "        ask_posts.append(post)\n",
    "    elif title.lower().startswith(\"show hn\"):\n",
    "        show_posts.append(post)\n",
    "    else:\n",
    "        other_posts.append(post)\n",
    "        \n",
    "print(len(ask_posts))\n",
    "print(len(show_posts))\n",
    "print(len(other_posts))"
   ]
  },
  {
   "cell_type": "markdown",
   "id": "1426f8ab",
   "metadata": {},
   "source": [
    "# Extracting Ask HN and Show HN Posts\n",
    "First, we'll identify posts that begin with either Ask HN or Show HN and separate the data for those two types of posts into different lists. Separating the data makes it easier to analyze in the following steps."
   ]
  },
  {
   "cell_type": "code",
   "execution_count": 80,
   "id": "8282105f",
   "metadata": {},
   "outputs": [
    {
     "name": "stdout",
     "output_type": "stream",
     "text": [
      "1744\n",
      "1162\n",
      "17194\n"
     ]
    }
   ],
   "source": [
    "import re\n",
    "\n",
    "# https://www.geeksforgeeks.org/python-pandas-series-str-startswith/\n",
    "# very confusing. lower and startswith here are a dataframe operation that is the\n",
    "# same name as the regular python functions.  we need to prepend str to each\n",
    "# one to ensure the dataframe operation gets applie, not the string function\n",
    "\n",
    "ask_posts =  df[df['title'].str.lower().str.startswith('ask hn')]\n",
    "show_posts =  df[df['title'].str.lower().str.startswith('show hn')]\n",
    "other_posts  =  df[~df['title'].str.lower().str.startswith('ask hn') & ~df['title'].str.lower().str.startswith('show hn')]\n",
    "\n",
    "print(len(ask_posts.index))\n",
    "print(len(show_posts.index))\n",
    "print(len(other_posts.index)) "
   ]
  },
  {
   "cell_type": "markdown",
   "id": "2bf827ba",
   "metadata": {},
   "source": [
    "# Calculating the Average Number of Comments for Ask HN and Show HN Posts\n",
    "Now that we separated ask posts and show posts into different lists, we'll calculate the average number of comments each type of post receives."
   ]
  },
  {
   "cell_type": "code",
   "execution_count": 81,
   "id": "2651f53b",
   "metadata": {},
   "outputs": [
    {
     "name": "stdout",
     "output_type": "stream",
     "text": [
      "14.038417431192661\n",
      "10.31669535283993\n"
     ]
    }
   ],
   "source": [
    "# Calculate the average number of comments `Ask HN` posts receive.\n",
    "total_ask_comments = ask_posts['num_comments'].sum()\n",
    "avg_ask_comments = total_ask_comments / len(ask_posts.index)\n",
    "print(avg_ask_comments)\n",
    "\n",
    "# Calculate the average number of comments `Show HN` posts receive.\n",
    "total_show_comments = show_posts['num_comments'].sum()\n",
    "avg_show_comments = total_show_comments / len(show_posts.index)\n",
    "print(avg_show_comments)"
   ]
  },
  {
   "cell_type": "markdown",
   "id": "e8fdacd8",
   "metadata": {},
   "source": [
    "On average, ask posts in our sample receive approximately 14 comments, whereas show posts receive approximately 10. Since ask posts are more likely to receive comments, we'll focus our remaining analysis just on these posts."
   ]
  },
  {
   "cell_type": "markdown",
   "id": "4a7d58b1",
   "metadata": {},
   "source": [
    "# Finding\n",
    "* the Amount of Ask Posts\n",
    "* Comments by Hour Created\n",
    "* Calculating the Average Number of Comments for Ask HN Posts by Hour\n",
    "\n",
    "Next, we'll determine if we can maximize the amount of comments an ask post receives by creating it at a certain time. First, we'll find the amount of ask posts created during each hour of day, along with the number of comments those posts received. Then, we'll calculate the average amount of comments ask posts created at each hour of the day receive."
   ]
  },
  {
   "cell_type": "code",
   "execution_count": 225,
   "id": "bc9c4e4f",
   "metadata": {},
   "outputs": [
    {
     "name": "stdout",
     "output_type": "stream",
     "text": [
      "<class 'pandas.core.frame.DataFrame'>\n",
      "Top 5 Hours for 'Ask HN' Comments\n",
      "15:00: 38.59 average comments per post\n",
      "02:00: 23.81 average comments per post\n",
      "20:00: 21.52 average comments per post\n",
      "16:00: 16.80 average comments per post\n",
      "21:00: 16.01 average comments per post\n"
     ]
    }
   ],
   "source": [
    "# Calculate the amount of ask posts created during each\n",
    "# hour of day and the number of comments received.\n",
    "import datetime as dt\n",
    "import numpy as np\n",
    "\n",
    "\n",
    "# https://stackoverflow.com/questions/26886653/pandas-create-new-column-based-on-values-from-other-columns-apply-a-function-o\n",
    "# Note the axis=1 specifier, that means that the application is done at a \n",
    "# row, rather than a column level. The results are here:\n",
    "date_format = \"%m/%d/%Y %H:%M\"\n",
    "\n",
    "# apply it to the ask_posts df\n",
    "ask_posts = ask_posts.assign(created_hour=lambda row : pd.to_datetime(row['created_at'], format=date_format).dt.hour)\n",
    "#display(ask_posts)\n",
    "\n",
    "# comments_by_hour = ask_posts.groupby('created_hour')['num_comments'].sum()\n",
    "comments_by_hour = ask_posts.groupby('created_hour').agg({'num_comments': ['sum', 'count','mean']}, group_keys=False)\n",
    "print(type(comments_by_hour))\n",
    "\n",
    "comments_by_hour = comments_by_hour.sort_values([('num_comments','mean')],ascending=False)\n",
    "# display(comments_by_hour)\n",
    "\n",
    "print(\"Top 5 Hours for 'Ask HN' Comments\")\n",
    "for index, row in comments_by_hour.head(5).iterrows():\n",
    "#     print(index)\n",
    "#     dt.datetime.strptime(str(index), \"%H\")\n",
    "#     print(row[('created_hour','mean')])\n",
    "    print(\"{}: {:.2f} average comments per post\".format(dt.datetime.strptime(str(index), \"%H\").strftime(\"%H:%M\"),row[('num_comments','mean')]))\n",
    "    \n",
    "    \n",
    "    "
   ]
  },
  {
   "cell_type": "markdown",
   "id": "5b9cb5d1",
   "metadata": {},
   "source": [
    "The hour that receives the most comments per post on average is 15:00, with an average of 38.59 comments per post. There's about a 60% increase in the number of comments between the hours with the highest and second highest average number of comments.\n",
    "\n",
    "According to the data set documentation, the timezone used is Eastern Time in the US. So, we could also write 15:00 as 3:00 pm est."
   ]
  }
 ],
 "metadata": {
  "kernelspec": {
   "display_name": "Python 3 (ipykernel)",
   "language": "python",
   "name": "python3"
  },
  "language_info": {
   "codemirror_mode": {
    "name": "ipython",
    "version": 3
   },
   "file_extension": ".py",
   "mimetype": "text/x-python",
   "name": "python",
   "nbconvert_exporter": "python",
   "pygments_lexer": "ipython3",
   "version": "3.10.2"
  }
 },
 "nbformat": 4,
 "nbformat_minor": 5
}
